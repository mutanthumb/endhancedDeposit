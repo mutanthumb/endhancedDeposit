{
 "cells": [
  {
   "cell_type": "markdown",
   "metadata": {},
   "source": [
    "Compare Author report from Deep Blue with contents of author's CV -- Hello Martha!"
   ]
  },
  {
   "cell_type": "code",
   "execution_count": 11,
   "metadata": {},
   "outputs": [
    {
     "name": "stdout",
     "output_type": "stream",
     "text": [
      "Collecting xlrd\n",
      "  Downloading xlrd-1.2.0-py2.py3-none-any.whl (103 kB)\n",
      "\u001b[K     |████████████████████████████████| 103 kB 1.2 MB/s eta 0:00:01\n",
      "\u001b[?25hInstalling collected packages: xlrd\n",
      "Successfully installed xlrd-1.2.0\n",
      "\u001b[33mWARNING: You are using pip version 20.2.3; however, version 20.2.4 is available.\n",
      "You should consider upgrading via the '/usr/local/Cellar/jupyterlab/2.2.8/libexec/bin/python3.8 -m pip install --upgrade pip' command.\u001b[0m\n"
     ]
    }
   ],
   "source": [
    "import pandas as pd\n",
    "import string\n",
    "import difflib\n",
    "import sys\n",
    "!{sys.executable} -m pip install xlrd\n",
    "from IPython.display import display"
   ]
  },
  {
   "cell_type": "code",
   "execution_count": 2,
   "metadata": {},
   "outputs": [
    {
     "name": "stdout",
     "output_type": "stream",
     "text": [
      "(Enter last name):Kaplan\n"
     ]
    }
   ],
   "source": [
    "oauthorLast = input(\"(Enter last name):\")"
   ]
  },
  {
   "cell_type": "code",
   "execution_count": 4,
   "metadata": {},
   "outputs": [
    {
     "name": "stdout",
     "output_type": "stream",
     "text": [
      "(Enter first name):Stephen\n"
     ]
    }
   ],
   "source": [
    "oauthorFirst = input(\"(Enter first name):\")"
   ]
  },
  {
   "cell_type": "code",
   "execution_count": 5,
   "metadata": {},
   "outputs": [
    {
     "name": "stdout",
     "output_type": "stream",
     "text": [
      "Kaplan Stephen\n"
     ]
    }
   ],
   "source": [
    "print(oauthorLast, oauthorFirst)"
   ]
  },
  {
   "cell_type": "code",
   "execution_count": 6,
   "metadata": {},
   "outputs": [
    {
     "name": "stdout",
     "output_type": "stream",
     "text": [
      "Input file name path (ex: ./CV/Sheldon_CV.txt)):./CV/SKaplanCV.txt\n"
     ]
    }
   ],
   "source": [
    "CVtextfile = input(\"Input file name path (ex: ./CV/Sheldon_CV.txt)):\")"
   ]
  },
  {
   "cell_type": "code",
   "execution_count": 7,
   "metadata": {},
   "outputs": [
    {
     "name": "stdout",
     "output_type": "stream",
     "text": [
      "Input file name path (ex: ./DBreport.xlsx)):./DBreport.xlsx\n"
     ]
    }
   ],
   "source": [
    "DBreport = input(\"Input file name path (ex: ./DBreport.xlsx)):\")\n",
    "#from Jose"
   ]
  },
  {
   "cell_type": "code",
   "execution_count": 8,
   "metadata": {},
   "outputs": [
    {
     "name": "stdout",
     "output_type": "stream",
     "text": [
      "[['Kaplan, S. Kaplan, R. and E. L. Walker. (1960) Individual differences in learning as a function of shock level.  Journal of Experimental Psychology, 60, 404 407.'], ['S. Kaplan. (1962)  Arousal and perseveration: A theoretical model.  Doctoral dissertation, University of Michigan.'], ['S. Kaplan and R. Kaplan. (1962) Skin resistance recording in the unrestrained rat.  Science, 138, 1403 1404.'], ['L. J. Kleinsmith and S. Kaplan. (1963)  Paired associate learning as a function of arousal and interpolated interval.  Journal of Experimental Psychology, 65, 190 193.'], ['L. J. Kleinsmith, S. Kaplan and R. D. Tarte. (1963)  The relationship of arousal and short  and long term verbal recall.  Canadian Journal of Psychology, 17, 393 397.'], ['S. Kaplan. (1963)  Neither watered down nor tidied up.  Review of Brown, et al.: New directions in psychology.  Contemporary Psychology, 67, 124 126.'], ['L. J. Kleinsmith and S. Kaplan. (1964)  The interaction of arousal and recall interval in nonsense syllable paired associate learning.  Journal of Experimental Psychology, 67, 124 126.'], ['S. Kaplan. (1964)  Searching behavior in undergraduates.  Psychology in the Schools, 1:403 405.  (Reprinted in W. R. Hatch and A. L. Richards [Eds.]  Approach to independent study.  U.S. Department of HEW, New Dimensions in Higher Education #13, 1965.)'], ['S. Kaplan, S. L. Mann and R. Kaplan. (1964)  Honors housing opportunity at the University of Michigan.  Superior Student, 7, 14 .'], ['S. Kaplan and G. R. Fisher. (1964)  A modified design for the Lykken zinc electrodes.  Psychophysiology, 1, 88 89.'], ['S. Kaplan and J. L. Hobart. (1964)  A versatile device for the measurement of skin resistance in rats and humans.  American Journal of Psychology, 77, 309 3l0.'], ['S. Kaplan and J. L. Hobart. (1965)  A new technique for recording skin  resistance.  American Journal of Medical Electronics, 4, 117 120.'], ['S. Kaplan and R. Kaplan. (1968)  Arousal and memory: A comment. Psychonomic Science, 10, 291 292.'], ['S. Kaplan, R. Kaplan and J. R. Sampson. (1968)  Encoding and arousal  factors in free recall of verbal and visual material.  Psychonomic Science, 12, 73 74.'], ['S. Kaplan, J. R. Pomerantz and R. Kaplan. (1969)  Satiation effects in the perception of single letters.  Perception and Psychophysics,  6, 129 132.'], ['S. Kaplan and R. Kaplan. (1969)  The arousal retention interval revisited:  The effects of some procedural changes.  Psychonomic Science, 15, 84 85.'], ['S. Kaplan and K. Winter. (1969)  Arousal as a function of background factors in psychophysical experiments.  Psychonomic Science, 16, 107 108.'], ['S. Kaplan and R. Kaplan. (1970)  The interaction of arousal and retention interval: Ipsative vs. normative scoring.  Psychonomic Science, 19, 115 117.'], ['S. Kaplan. (1970)  The role of location processing in the perception of the environment. In Archea and C. Eastman (Eds.)  EDRA TWO.  Stroudsburg, PA: Dowden, Hutchinson & Ross.'], ['S. Kaplan, R. Kaplan and J. S. Wendt. (1972)  Rated preference and complexity for natural and urban visual material.  Perception and Psychophysics, 12, 354 356.'], ['S. Kaplan and J. S. Wendt. (1972)  Preference and the visual environment: Complexity and some alternatives.  In W. J. Mitchell  (Ed.) Environmental design: Research and practice. Proceedings of  the Environmental Design Research Association Conference, Los Angeles.'], ['S. Kaplan. (1972)  The challenge of environmental psychology: A proposal for a new functionalism.  American Psychologist, 27, 140 143.'], ['S. Kaplan. (1973)  Cognitive maps in perception and thought.  In R. M. Downs and D. Stea (Eds.)  Image and environment.  Chicago, IL: Aldine.  Pp. 63 78.'], ['S. Kaplan. (1973)  Cognitive maps, human needs and the designed environment. In W. F. E. Preiser (Ed.) Environmental design research. Stroudsburg, PA: Dowden, Hutchinson and Ross.  Pp. 275 283.'], ['R. Kaplan, S. Kaplan and H. L. Deardorff. (1974)  The perception and evaluation of a simulated environment.  Man Environment Systems, 4, 191 192.'], ['S. Kaplan. (1975)  An informal model for the prediction of preference.  In E. H. Zube, R. O. Brush and J. G. Fabos (Eds.) Landscape  assessment: Values, perception and resources. Stroudsburg, PA: Dowden, Hutchinson and Ross.  Pp. 92 101.'], ['S. Kaplan. (1976)  Adaptation, structure and knowledge. In G. T. Moore and R. G. Golledge (Eds.) Environmental knowing: Theories,  perspectives and methods.  Stroudsburg, PA: Dowden, Hutchinson and  Ross.  Pp. 32 45.'], ['T. R. Herzog, S. Kaplan and R. Kaplan. (1976)  The prediction of preference for familiar urban places.  Environment and Behavior, 8, 627 645.'], ['S. Kaplan. (1977)  Tranquility and challenge in the natural environment.  In Children, nature and the urban environment.  USDA Forest Service General Technical Report NE 30.  Pp. 181 185.'], ['S. Kaplan. (1977)  Participation in the design process: A cognitive  approach.  In D. Stokols (Ed.)  Perspectives on environment and behavior:  Theory, research and application. NY: Plenum. Pp. 221 233.'], ['S. Kaplan and R. Kaplan. (1977)  The experience of the environment. Man Environment Systems, 7, 300 305.'], [\"S. Kaplan and R. Kaplan (Eds.). (1978)  Humanscape: Environments for people. Belmont, CA: Duxbury.  (Republished by Ann Arbor, MI: Ulrich's, 1982.)\"], ['S. Kaplan. (1978)  Perception of an uncertain environment.  Pp. 30 35 in Humanscape.'], ['S. Kaplan.  (1978)  On knowing the environment.  Pp. 54 58 in Humanscape.'], ['S. Kaplan. (1978)  Attention and fascination: The search for cognitive clarity.  Pp. 84 90 in Humanscape.'], ['S. Kaplan. (1979)  Concerning the power of content identifying methodologies.  In Assessing amenity resource values.  USDA Forest Service General Technical Report RM 68.  Pp. 4 13.'], ['S. Kaplan. (1979)  Perception and landscape: Conceptions and misconceptions. In Proceedings of Our National Landscape Conference.  USDA Forest Service General Technical Report PSW 35.  Pp. 241 248.'], ['T. R. Herzog, S. Kaplan and R. Kaplan. (1982)  The prediction of preference for unfamiliar urban places.  Population and Environment,  5, 43 59.'], ['S. Kaplan. (1982)  Where cognition and affect meet: A theoretical analysis of preference.  In P. Bart, A. Chen and G. Francescato (Eds.)  Knowledge for design.  Washington, D.C.: EDRA. Pp.183 188.'], [\"S. Kaplan and R. Kaplan. (1982)  Cognition and environment: Functioning in an uncertain world.   New York: Praeger.  (Republished by Ann Arbor, MI: Ulrich's, 1989.)\"], ['S. Kaplan. (1982)  Lost in Chelm: Maladaptive behavior in an adaptive model.  (Commentary on I. Lieblich and M. A. Arbib \"Multiple representations of space underlying behavior.\")  Behavioral and Brain Sciences, 5, 643 644.'], ['S. Kaplan and J. F. Talbot. (1983)  Psychological benefits of a wilderness experience.  In I. Altman and J. F. Wohlwill (Eds.)  Behavior and the natural environment.  New York: Plenum.  Pp. 163 203.'], ['S. Kaplan. (1983)  A model of person environment compatibility.  Environment and Behavior, 15, 311 332.'], ['S. Kaplan. (1984)  Landscape preference and human evolution: The aesthetics of function.  In A. S. Devlin and S. L. Taylor (Eds.) Environmental preference and landscape management.  New London, CT: Connecticut College.'], ['S. Kaplan. (1984)  Molar concepts and mentalistic theories: A moral approach. (Comments on B.F. Skinner\\'s \"The phylogeny and ontogeny of behavior.) Behavioral and Brain Sciences, 7, 692 693.'], ['S. Kaplan. (1984)  A process oriented approach to concerns in environmental decision making. In S. L. Hart, G. A. Enk and  W. F. Hornick (Eds.) Improving impact assessment:  Increasing the  relevance and utilization of technical and scientific information.  Boulder, CO: Westview Press. Pp. 21 35.'], ['S. Kaplan. (1984)  Affect and cognition in the context of home: The quest for intangibles.  Population and Environment, 7, 126 133.'], ['S. Kaplan. (1985)  Review of Christopher Alexander: The search for a new paradigm in architecture by S. Grabow.  Environment and Behavior, 17, 405 408.'], [\"S. Kaplan (1985) Cognition and affect in environmental learning.  Children's Environmental Quarterly, 2(3), 19 21.\"], ['T. Brown, T. Keane and S. Kaplan. (1986)  Aesthetics and management: Bridging the gap.  Landscape and Urban Planning, 13, 1 10.'], ['R. De Young and S. Kaplan. (1985 86) Conservation behavior and the structure of satisfaction.  Journal of Environmental Systems, 15(3), 233 242.'], ['J. F. Talbot and S. Kaplan (1986)  Perspectives on wilderness: Re examining the value of extended wilderness experiences.  Journal of Environmental Psychology, 6, 177 188.'], ['S. Kaplan (1987)  Aesthetics, affect and cognition: Environmental preference from an evolutionary perspective.  Environment and Behavior, 19, 3 32.'], ['S. Kaplan (1987)  Mental fatigue and the designed environment.  In J. Harvey and D. Henning (Eds.)  Public environments. Washington, D.C.: EDRA. Pp. 55 60.'], ['S. Kaplan, F. D. Dale and R. Kaplan (1987)  Patterns as hypotheses: An empirical test.  In J. Harvey and D. Henning (Eds.)  Public environments. Washington, D.C.: EDRA. Pp. 188 193.'], ['S. Kaplan  (1987) Associative learning and the cognitive map:  Differences  in intelligenceas expressions of a common learning mechanism.  (Commentary  on Macphail\\'s \"The comparative psychology of intelligence\")  Behavioral and Brain Sciences, 1987, 10, 672 673.'], ['R. Kaplan and S. Kaplan (1987) The garden as restorative experience: A research odyssey. In M. Francis and R. Hester (Eds.) Meanings of the garden conference proceedings. Davis, CA: Center for Design Research, University of California.  Pp. 335 341.'], ['R. De Young and S. Kaplan (1988) On averting the tragedy of the commons.  Environmental Management, 1988, 12(3), 273 283.'], ['S. Kaplan (1988) Review of Parallel distributed processing: Explorations in the microstructure of cognition, Vol. 1 & 2.  American Scientist, 76, 309 310.'], ['S. Kaplan (1988) Some principles the Handbook left out: Notes to the neophyte researcher interested in changing the world.  (Comments on Handbook of environmental psychology).  Journal of Environmental Psychology, 8, 165 166.'], ['S. Kaplan (1988)  Where cognition and affect meet: A theoretical analysis of preference.  In J. L. Nasar (Ed.)  Environmental aesthetics: Theory, research and application.  New York: Cambridge University Press. Pp. 56 63.  (Originally published in P. Bart, et al., 1982.)'], ['S. Kaplan (1988)  Perception and landscape: Conceptions and misconceptions.  In J. L. Nasar (Ed.)  Environmental aesthetics: Theory, research and application. New York: Cambridge University Press. Pp. 45 55. (Originally published in Our National Landscape, 1979.)'], ['M. C. Monroe and S. Kaplan (1988)  When words speak louder than actions:  Environmental problem solving in the classroom.  Journal of Environmental Education, 19, 3, 38 41.'], ['B. A. Whitehead, A. E. Fusillo, and S. Kaplan  (1988)  The design of physical environments and health behavior.  In D. S. Gochman (Ed.)  Health behavior: Emerging research perspectives.  New York: Plenum.  Pp. 231 241.'], ['S. Kaplan and R. Kaplan (1989)  The visual environment: Public participation in design and planning.  Journal of Social Issues, 45, 59 86.'], ['R. Kaplan, S. Kaplan and T. Brown (1989)  Environmental preference: A comparison of four domains of predictors.  Environment and Behavior, 21, 509 530.'], ['R. Kaplan and S. Kaplan (1989)  The experience of nature: A psychological perspective.  New York: Cambridge University Press.'], ['S. Kaplan (1989)  Past environments and past stories in human effectiveness and well being.  In G. Hardie, R. Moore and H. Sanoff (Eds.)  Changing paradigms.  Oklahoma City: EDRA.    Pp. 223 228.'], ['R. M. Lesperance and S. Kaplan (1989)  A non spatial solution to a spatial problem.  Behavioral and Brain Sciences, 12, 408 409.'], ['M. C. Monroe and S. Kaplan (1989)  A few more words on \"Words and actions\": Reaction to a recent commentary.  Journal of Environmental Education, 20, 3 5.'], ['S. Kaplan, M. Weaver and R. M. French (1990)  Active symbols and internal models: Towards a cognitive connectionism.  AI and Society, 4, 51 71.'], ['M. Weaver and S. Kaplan  (1990)  Connectionist learning and the challenge of real environments.  Behavioral and Brain Sciences, 13, 510 511.'], ['S. Kaplan (1990)  Parks for the future: A psychological perspective.  Stad & Land, 1990, #85, 4 22.'], ['S. Kaplan (1990)  Being needed, adaptive muddling and human environment relationships.  In R. I. Selby, K. H. Anthony, J. Choi and B. Orland (Eds.)   Coming of age.  Oklahoma City: EDRA.   Pp. 19 25.'], ['R. Kaplan and S. Kaplan (1990)  Restorative experience: The healing power of nearby nature.  In M. Francis and R. T. Hester, Jr. (Eds.)  The meaning of gardens.  Cambridge, MA: MIT Press.   Pp. 238 243.'], ['S. Kaplan, M. Sonntag, E. Chown  (1991)  Tracing Recurrent Activity in  Cognitive Elements (TRACE): A model of temporal dynamics in a cell assembly.   Connection Science, 3, 179-206.'], ['S. Kaplan (1991)  Beyond rationality: Clarity based decision making.  In T. Gärling and G. Evans (Eds.)  Environment, cognition and action: An integrative multidisciplinary approach.  New York: Oxford University Press.  Pp. 171-190.'], ['S. Kaplan (1992)  Environmental preference in a knowledge seeking knowledge using organism. In J. H. Barkow, L. Cosmides, and J. Tooby (Eds.) The adaptive mind.  New York:  Oxford University Press.  Pp. 535-552.'], ['S. Kaplan, M. Weaver and R. M. French  (1992)  Active symbols and internal  models: Towards a cognitive connectionism.  In A. Clark and R. Lutz (Eds.)  Connectionism in context.  London: Springer-Verlag.  Pp. 91-110.'], ['S. Kaplan (1992) The restorative environment: Nature and human  experience.  In D. Relf (Ed.)  The role of horticulture in human well being  and social development.  Portland, OR: Timber Press.  Pp. 134-142'], ['E. Chown and S. Kaplan  (1992) Active symbols, limited storage and the power of natural intelligence.  Brain and Behavioral Sciences, 15(3), 442-443.'], ['L. V. Bardwell and S. Kaplan (1992)  The impact of the introductory environmental course: Guilt and despair vs. Hope and commitment.   Environmental Professional, 14, 346-350.'], ['S. Kaplan, L. V. Bardwell, D. A. Slakter (1993)  The museum as a restorative experience.  Environment and Behavior, 25, 725-742.'], ['J. F. Talbot, R. Kaplan, F. E. Kuo and S. Kaplan (1993) Factors that enhance effectiveness of visitor maps.  Environment and Behavior, 25, 743-760.'], ['S. Kaplan and C. Peterson (1993)  Health and environment: A psychological analysis.  Landscape and Urban Planning, 26, 17-23.'], ['S. Kaplan  (1993)  The role of natural environment aesthetics in the restorative experience.  In P. H. Gobster (Ed.)  Managing urban and high-use recreation settings.   St. Paul, MN: Forest Service, USDA.  General Technical Report NC-163.  Pp. 46-49.'], ['S. Kaplan, L. V. Bardwell and D. A. Slakter (1993)  The restorative experience as a museum benefit.  Journal of Museum Education, 18, 3, 15-18.'], ['E. Chown, S. Kaplan and D. Kortenkamp  (1995)  Prototypes, location, and associative networks (PLAN): Towards a unified theory of cognitive mapping.  Cognitive Science, 19, 1-51.'], ['S. Kaplan (1995)  The urban forest as a source of psychological well-being.  In'], ['G. A. Bradley (Ed.)  Urban forest landscapes: Integrating multidisciplinary perspectives.  Seattle: University of Washington Press.  Pp. 101-108.'], ['S. Kaplan (1995)  Review of The Biophilia Hypothesis (S. R. Kellert & E. O. Wilson, Eds.).  Environment and Behavior, 27, 801-804.'], ['S. Kaplan  (1995)  The restorative benefits of nature: Toward an integrative framework.  Journal of Environmental Psychology, 15, 169-182.'], [\"M. Hucka, M. Weaver, and S. Kaplan (1995)  Hebb's accomplishments misunderstood.  Behavioral and Brain Sciences, 18, 635-636.\"], ['R. Kaplan, L. V. Bardwell, H. A. Ford, and S. Kaplan (1996) The corporate back-40: Employee benefits of wildlife enhancement efforts on corporate land.  Human Dimensions of Wildlife, 1(2), 1-13.'], ['A. R. Kearney and S. Kaplan (1997) Toward a methodology for the measurement of the knowledge structures of ordinary people: The Conceptual Content Cognitive Map (3CM). Environment and Behavior, 29, 5, 579-617.'], ['D. A. Schwartz, E. Ivanich, and S. Kaplan (1997). Suppression, attention and effort: A proposed enhancement for a promising theory.  Behavioral and Brain Sciences, 20, 36-37.'], ['R. Kaplan, S. Kaplan, and R. L. Ryan (1998) With people in mind: Design and management of everyday nature.  Washington, D.C.: Island Press.'], ['A. R. Kearney, G. Bradley, R. Kaplan, and S. Kaplan (1999) Stakeholder perspectives on appropriate forest management in the Pacific Northwest. Forest Science, 45, 62-73'], ['E. Ivancich, C. Huyck, and S. Kaplan (1999) Cell assemblies as building blocks of larger cognitive structures. Behavioral and Brain Sciences, 22, 292-293.'], ['S. Kaplan and L. L. Fu (1999) Making room for insight and incrementalism in the same brain:    The contribution of D. O. Hebb. Psycoloquy (Psyc/1999.volume10/psyc99.10.76.lashley-hebb.8.kaplan)'], ['D. A. Schwartz, M. Weaver, and S. Kaplan.  (1999) A little mechanism can go a long way. Behavioral and Brain Sciences, 22, 631-632.'], ['D. A. Schwartz and S. Kaplan (2000). Concentration and attention: New directions in theory and assessment. (Pp. 242-255) in D. Clements-Croome (Ed.) Creating a productive workplace. London: Routledge.'], ['J. E. Ivancich, D. A. Schwartz, and S. Kaplan (2000) Integrating exemplars in category learning: Better late than never, but better early than late. Behavioral and Brain Sciences, 23, 481-482.'], ['S. Kaplan. (2000) Human nature and environmentally responsible behavior. Journal of Social Issues, 56(3), 491-508.'], ['S. Kaplan. (2001) Meditation, Restoration and the Management of Mental Fatigue. Environment and Behavior, 33, 480-506.'], ['K. N. Irvine, and S. Kaplan. (2001) Coping with change: The small experiment as a strategic approach to environmental sustainability. Journal of Environmental Management, 28(6), 713-725.'], ['S. Kaplan. (2001) The restorative environment: Nature and human experience. In M. R. DeHart and J. R. Brown (Eds.) Horticultural therapy: A guide for all seasons. St Louis, MO: National Garden Clubs.  Pp. 8-11.  (Adapted from S. Kaplan, 1992)'], ['E. Chown, L. B. Booker,and S. Kaplan  (2001) Perception, action planning, and cognitive maps. Behavioral and Brain Science, 24(5), 882+.'], ['S. Kaplan (2002) Environmental psychology: Cognition, affect and meaningful action.In S. F. Davis and W. Buskist (Eds.) The teaching of psychology: Essays in honors of Wilbert J. McKeachie and Charles L. Brewer. Mahwah, NJ: Erlbaum. Pages 471-483'], ['R. Kaplan, and S. Kaplan. (2002) Adolescents and the natural environment: A time out? In P. H. Kahn, Jr. and S. R. Kellert (Eds.) Children and nature: Theoretical, conceptual, and empirical investigations. Cambridge, MA: MIT Press. Pages 227-258.'], ['S. Kaplan. (2002) Environmental psychology. Encyclopedia of Cognitive Science. London: Macmillan Reference Ltd.  Pp. 1141-1145.'], ['S. Kaplan and R. De Young. (2002) Toward a better understanding of prosocial behavior: The role of evolution and directed attention. Brain and Behavioral Sciences, 25, 263-264.'], ['S. Kaplan and R. Kaplan (2003) Health, supportive environments and the reasonable person model. American Journal of Public Health, 93(9) 1484-1489'], ['R. Kaplan, M. E. Austin, and S. Kaplan. (2004) Open space communities: Resident perception, nature benefits, and terminological problems. Journal of the American Planning Association. 70(3), 300-312.'], ['S. Kaplan (2004) Some hidden benefits of the urban forest. In C.C. Konijnendijk, J. Schipperijn and K. H. Hoyer (Eds.) Forestry serving urbanised societies. (Selected Papers from conference jointly organized by IUFRO, EFI and the Danish Centre for Forest, Landscape and Planning in Copenhagen, 27-30 August 2002).Vienna, Austria: IUFRO (IUFRO World Series Vol. 14). Pp. 221-232.'], ['R. Kaplan and S. Kaplan (2005) Preference, Restoration, and Meaningful Action in the Context of Nearby Nature. In P. F. Barlett (Ed.) Urban place: Reconnecting with the natural world. Cambridge, MA: MIT Press.  (Pp. 271-298)'], ['P. Ouellette, R. Kaplan and S. Kaplan (2005) The monastery as a restorative environment. Journal of Environmental Psychology, 25(2), 175-188.'], [\"R. Kaplan, S. Kaplan and M. E. Austin (2008) Factors shaping local land use decisions: Citizen planners' perceptions and challenges. Environment and Behavior, 40(1), 46-71.\"], ['L. Bardwell and S. Kaplan (2008, winter). Creating a generation of problem-solvers: A cognitive perspective on service-learning. Information for Action: A Journal for Research on Service-Learning for Children and Youth. http://www.service-learningpartnership.org/ifa_journal/winter_2008/CreatingaGenerationofProblemSolvers.pdf'], ['A. R. Kearney, G. A. Bradley, C. H. Petrich, R. Kaplan, S. Kaplan, and D. Simpson-Colebank. (2008). Public perception as support for scenic quality regulation in a nationally treasured landscape. Landscape and Urban Planning. 87(2), 117-128.'], ['R. Kaplan and S. Kaplan (2008) Bringing out the best in people: A psychological perspective. Conservation Biology, 22(4), 826-829.'], ['Berman, M.G., Jonides, J., and Kaplan, S. (2008). The cognitive benefits of interacting with nature. Psychological Science, 19(12), 1207-1212.'], ['S. Kaplan and R. Kaplan (2009) Creating a larger role for environmental psychology: The Reasonable Person Model as an integrative framework. Journal of Environmental Psychology. 29(3), 329-339.'], ['S. Kaplan (2009) In Search of the Ethical Environment. In M. Chapin, J. Bissell, M. A. L’Heureux, K. Diaz Moore, M. Rashid, and K. Spreckelmeyer (Eds.) EDRA 40: The ethical design of places.'], ['S. Kaplan and M. G. Berman (2010). Directed attention as a common resource for executive functioning and self-regulation. Perspectives on Psychological Science, 5(1), 43-57.'], ['R. Kaplan and S. Kaplan (2011) Anthropogenic / anthropogenerous: Creating environments that help people create better environments. Landscape and Urban Planning, 100, 350-352.'], ['R. Kaplan and S. Kaplan (2011) Well-being, reasonableness, and the natural environment.  Applied Psychology: Health and Well-Being, 3(3), 304-321.'], ['R. Kaplan and S. Kaplan (2012) Enabling the best in people.  In R. De Young and T. Princen (Eds.) The localization reader: Adapting to the coming downshift. Cambridge, MA: MIT Press. Pp. 233-240.  (Excerpted from R. Kaplan and S. Kaplan [2008] Bringing out the best in people. Conservation Biology, 22, 826-829.)'], ['M. G. Berman, E. Kross, K. M. Krpan, M. K. Askren, A. Burson, P. J. Deldin, S. Kaplan, L. Sherdell, I. H. Gotlib, and J. Jonides (2012) Interacting with nature improves cognition and affect for individuals with depression. Journal of Affective Disorders, 140(3), 300-305.'], ['A.Basu, R. Kaplan and S. Kaplan (2014) Creating supportive environments to foster reasonableness and achieve sustainable well-being. In T. J. Hämäläinen and J. Michaelson (Eds.) Well-being and beyond: Broadening the public and policy discourse.  (Pp. 182-217) Cheltenham, UK:  Edward Elgar Publishing, New Horizons in Management Series.'], ['S. Kaplan (2015) The expertise challenge. In  R. Kaplan and A. Basu (Eds.) Fostering reasonableness: Supportive Environments for Brining Out Our Best (Pp. 1-20). Ann Arbor, MI: Michigan Publishing.   (Pp. 54-69).']]\n"
     ]
    }
   ],
   "source": [
    "# Reading in CVtextfile indicated above.\n",
    "\n",
    "with open(CVtextfile) as f:\n",
    "    citlines = [[x for x in line.strip().split('\\n')] for line in f]\n",
    "    print(citlines)\n"
   ]
  },
  {
   "cell_type": "code",
   "execution_count": 12,
   "metadata": {
    "scrolled": false
   },
   "outputs": [
    {
     "name": "stdout",
     "output_type": "stream",
     "text": [
      "46\n"
     ]
    }
   ],
   "source": [
    "# Doing the actual comparison\n",
    "\n",
    "#print(DBreport)\n",
    "#dbdf = pd.read_excel(DBreport, encoding = 'utf-8')\n",
    "dbdf = pd.read_excel(DBreport)\n",
    "#print(dbdf)\n",
    "DBdict = dbdf.to_dict()\n",
    "#print(DBdict)\n",
    "matcount = 0\n",
    "for i in DBdict['Title']:\n",
    "    DBtitle = ''\n",
    "    DBtitle = DBdict['Title'][i]\n",
    "    #print(i)\n",
    "    for record in citlines:\n",
    "        s = difflib.SequenceMatcher(None, record[0], DBtitle)\n",
    "        fuzz_sum = sum(n for i,j,n in s.get_matching_blocks()) / float(len(DBtitle))\n",
    "        #print(fuzz_sum)\n",
    "        if fuzz_sum > 0.90:\n",
    "            record.insert(0, (\"DeepBlue\\t%s\" % DBtitle))\n",
    "            #record.insert(0, \"Hello!\")\n",
    "            #print(\"yes!\")\n",
    "            matcount = matcount + 1\n",
    "            #break\n",
    "print(matcount)\n",
    "\n"
   ]
  },
  {
   "cell_type": "markdown",
   "metadata": {},
   "source": [
    "***\n",
    "Full list of citations indicating which are already in Deep Blue\n",
    "***"
   ]
  },
  {
   "cell_type": "code",
   "execution_count": 13,
   "metadata": {},
   "outputs": [],
   "source": [
    "outputFile = \"dbcompare\" + oauthorLast + oauthorFirst + \".txt\""
   ]
  },
  {
   "cell_type": "code",
   "execution_count": 14,
   "metadata": {},
   "outputs": [],
   "source": [
    "#print(citlines)\n",
    "with open(outputFile, mode='w', encoding='utf-8') as myfile:\n",
    "    for lines in citlines:\n",
    "        myfile.write('\\t'.join(lines))\n",
    "        myfile.write('\\n')\n",
    "myfile.close()"
   ]
  },
  {
   "cell_type": "markdown",
   "metadata": {},
   "source": [
    "***\n",
    "List of citations which are already IN Deep Blue\n",
    "***"
   ]
  },
  {
   "cell_type": "code",
   "execution_count": 15,
   "metadata": {},
   "outputs": [],
   "source": [
    "idb_outputFile = \"IN_DeepBlue\" + oauthorLast + oauthorFirst + \".txt\""
   ]
  },
  {
   "cell_type": "code",
   "execution_count": 16,
   "metadata": {},
   "outputs": [],
   "source": [
    "#print(citlines)\n",
    "with open(idb_outputFile, mode='w', encoding='utf-8') as myfile:\n",
    "    for lines in citlines:\n",
    "        if \"DeepBlue\" in lines[0]:\n",
    "            myfile.write('\\t'.join(lines))\n",
    "            myfile.write('\\n')\n",
    "myfile.close()"
   ]
  },
  {
   "cell_type": "markdown",
   "metadata": {},
   "source": [
    "***\n",
    "List of citations which are already NOT in Deep Blue\n",
    "***"
   ]
  },
  {
   "cell_type": "code",
   "execution_count": 17,
   "metadata": {},
   "outputs": [],
   "source": [
    "nidb_outputFile = \"NOT_in_DeepBlue\" + oauthorLast + oauthorFirst + \".txt\""
   ]
  },
  {
   "cell_type": "code",
   "execution_count": 18,
   "metadata": {},
   "outputs": [],
   "source": [
    "#print(citlines)\n",
    "with open(nidb_outputFile, mode='w', encoding='utf-8') as myfile:\n",
    "    for lines in citlines:\n",
    "        if \"DeepBlue\" not in lines[0]:\n",
    "            myfile.write('\\t'.join(lines))\n",
    "            myfile.write('\\n')\n",
    "myfile.close()"
   ]
  },
  {
   "cell_type": "markdown",
   "metadata": {},
   "source": [
    "***\n",
    "(Optional) Run this cell if you want to see the output of full DB Compare list\n",
    "***"
   ]
  },
  {
   "cell_type": "code",
   "execution_count": 19,
   "metadata": {
    "scrolled": false
   },
   "outputs": [
    {
     "data": {
      "text/plain": [
       "['DeepBlue\\tIndividual differences in learning as a function of shock level ',\n",
       " 'Kaplan, S. Kaplan, R. and E. L. Walker. (1960) Individual differences in learning as a function of shock level.  Journal of Experimental Psychology, 60, 404 407.']"
      ]
     },
     "metadata": {},
     "output_type": "display_data"
    },
    {
     "data": {
      "text/plain": [
       "['S. Kaplan. (1962)  Arousal and perseveration: A theoretical model.  Doctoral dissertation, University of Michigan.']"
      ]
     },
     "metadata": {},
     "output_type": "display_data"
    },
    {
     "data": {
      "text/plain": [
       "['DeepBlue\\tSkin resistance recording in the unrestrained rat ',\n",
       " 'S. Kaplan and R. Kaplan. (1962) Skin resistance recording in the unrestrained rat.  Science, 138, 1403 1404.']"
      ]
     },
     "metadata": {},
     "output_type": "display_data"
    },
    {
     "data": {
      "text/plain": [
       "['L. J. Kleinsmith and S. Kaplan. (1963)  Paired associate learning as a function of arousal and interpolated interval.  Journal of Experimental Psychology, 65, 190 193.']"
      ]
     },
     "metadata": {},
     "output_type": "display_data"
    },
    {
     "data": {
      "text/plain": [
       "['L. J. Kleinsmith, S. Kaplan and R. D. Tarte. (1963)  The relationship of arousal and short  and long term verbal recall.  Canadian Journal of Psychology, 17, 393 397.']"
      ]
     },
     "metadata": {},
     "output_type": "display_data"
    },
    {
     "data": {
      "text/plain": [
       "['S. Kaplan. (1963)  Neither watered down nor tidied up.  Review of Brown, et al.: New directions in psychology.  Contemporary Psychology, 67, 124 126.']"
      ]
     },
     "metadata": {},
     "output_type": "display_data"
    },
    {
     "data": {
      "text/plain": [
       "['L. J. Kleinsmith and S. Kaplan. (1964)  The interaction of arousal and recall interval in nonsense syllable paired associate learning.  Journal of Experimental Psychology, 67, 124 126.']"
      ]
     },
     "metadata": {},
     "output_type": "display_data"
    },
    {
     "data": {
      "text/plain": [
       "['S. Kaplan. (1964)  Searching behavior in undergraduates.  Psychology in the Schools, 1:403 405.  (Reprinted in W. R. Hatch and A. L. Richards [Eds.]  Approach to independent study.  U.S. Department of HEW, New Dimensions in Higher Education #13, 1965.)']"
      ]
     },
     "metadata": {},
     "output_type": "display_data"
    },
    {
     "data": {
      "text/plain": [
       "['S. Kaplan, S. L. Mann and R. Kaplan. (1964)  Honors housing opportunity at the University of Michigan.  Superior Student, 7, 14 .']"
      ]
     },
     "metadata": {},
     "output_type": "display_data"
    },
    {
     "data": {
      "text/plain": [
       "['S. Kaplan and G. R. Fisher. (1964)  A modified design for the Lykken zinc electrodes.  Psychophysiology, 1, 88 89.']"
      ]
     },
     "metadata": {},
     "output_type": "display_data"
    },
    {
     "data": {
      "text/plain": [
       "['S. Kaplan and J. L. Hobart. (1964)  A versatile device for the measurement of skin resistance in rats and humans.  American Journal of Psychology, 77, 309 3l0.']"
      ]
     },
     "metadata": {},
     "output_type": "display_data"
    },
    {
     "data": {
      "text/plain": [
       "['S. Kaplan and J. L. Hobart. (1965)  A new technique for recording skin  resistance.  American Journal of Medical Electronics, 4, 117 120.']"
      ]
     },
     "metadata": {},
     "output_type": "display_data"
    },
    {
     "data": {
      "text/plain": [
       "['DeepBlue\\tArousal and memory: A comment ',\n",
       " 'S. Kaplan and R. Kaplan. (1968)  Arousal and memory: A comment. Psychonomic Science, 10, 291 292.']"
      ]
     },
     "metadata": {},
     "output_type": "display_data"
    },
    {
     "data": {
      "text/plain": [
       "['DeepBlue\\tEncoding and arousal factors in free recall of verbal and visual material ',\n",
       " 'S. Kaplan, R. Kaplan and J. R. Sampson. (1968)  Encoding and arousal  factors in free recall of verbal and visual material.  Psychonomic Science, 12, 73 74.']"
      ]
     },
     "metadata": {},
     "output_type": "display_data"
    },
    {
     "data": {
      "text/plain": [
       "['DeepBlue\\tSatiation effects in the perception of single letters ',\n",
       " 'S. Kaplan, J. R. Pomerantz and R. Kaplan. (1969)  Satiation effects in the perception of single letters.  Perception and Psychophysics,  6, 129 132.']"
      ]
     },
     "metadata": {},
     "output_type": "display_data"
    },
    {
     "data": {
      "text/plain": [
       "['S. Kaplan and R. Kaplan. (1969)  The arousal retention interval revisited:  The effects of some procedural changes.  Psychonomic Science, 15, 84 85.']"
      ]
     },
     "metadata": {},
     "output_type": "display_data"
    },
    {
     "data": {
      "text/plain": [
       "['S. Kaplan and K. Winter. (1969)  Arousal as a function of background factors in psychophysical experiments.  Psychonomic Science, 16, 107 108.']"
      ]
     },
     "metadata": {},
     "output_type": "display_data"
    },
    {
     "data": {
      "text/plain": [
       "['DeepBlue\\tThe interaction of arousal and retention interval: Ipsative and normative scoring ',\n",
       " 'S. Kaplan and R. Kaplan. (1970)  The interaction of arousal and retention interval: Ipsative vs. normative scoring.  Psychonomic Science, 19, 115 117.']"
      ]
     },
     "metadata": {},
     "output_type": "display_data"
    },
    {
     "data": {
      "text/plain": [
       "['S. Kaplan. (1970)  The role of location processing in the perception of the environment. In Archea and C. Eastman (Eds.)  EDRA TWO.  Stroudsburg, PA: Dowden, Hutchinson & Ross.']"
      ]
     },
     "metadata": {},
     "output_type": "display_data"
    },
    {
     "data": {
      "text/plain": [
       "['DeepBlue\\tRated preference and complexity for natural and urban visual material ',\n",
       " 'S. Kaplan, R. Kaplan and J. S. Wendt. (1972)  Rated preference and complexity for natural and urban visual material.  Perception and Psychophysics, 12, 354 356.']"
      ]
     },
     "metadata": {},
     "output_type": "display_data"
    },
    {
     "data": {
      "text/plain": [
       "['DeepBlue\\tEnvironmental Preference ',\n",
       " 'S. Kaplan and J. S. Wendt. (1972)  Preference and the visual environment: Complexity and some alternatives.  In W. J. Mitchell  (Ed.) Environmental design: Research and practice. Proceedings of  the Environmental Design Research Association Conference, Los Angeles.']"
      ]
     },
     "metadata": {},
     "output_type": "display_data"
    },
    {
     "data": {
      "text/plain": [
       "['S. Kaplan. (1972)  The challenge of environmental psychology: A proposal for a new functionalism.  American Psychologist, 27, 140 143.']"
      ]
     },
     "metadata": {},
     "output_type": "display_data"
    },
    {
     "data": {
      "text/plain": [
       "['S. Kaplan. (1973)  Cognitive maps in perception and thought.  In R. M. Downs and D. Stea (Eds.)  Image and environment.  Chicago, IL: Aldine.  Pp. 63 78.']"
      ]
     },
     "metadata": {},
     "output_type": "display_data"
    },
    {
     "data": {
      "text/plain": [
       "['S. Kaplan. (1973)  Cognitive maps, human needs and the designed environment. In W. F. E. Preiser (Ed.) Environmental design research. Stroudsburg, PA: Dowden, Hutchinson and Ross.  Pp. 275 283.']"
      ]
     },
     "metadata": {},
     "output_type": "display_data"
    },
    {
     "data": {
      "text/plain": [
       "['DeepBlue\\tThe perception and evaluation of a simulated environment ',\n",
       " 'R. Kaplan, S. Kaplan and H. L. Deardorff. (1974)  The perception and evaluation of a simulated environment.  Man Environment Systems, 4, 191 192.']"
      ]
     },
     "metadata": {},
     "output_type": "display_data"
    },
    {
     "data": {
      "text/plain": [
       "['S. Kaplan. (1975)  An informal model for the prediction of preference.  In E. H. Zube, R. O. Brush and J. G. Fabos (Eds.) Landscape  assessment: Values, perception and resources. Stroudsburg, PA: Dowden, Hutchinson and Ross.  Pp. 92 101.']"
      ]
     },
     "metadata": {},
     "output_type": "display_data"
    },
    {
     "data": {
      "text/plain": [
       "['S. Kaplan. (1976)  Adaptation, structure and knowledge. In G. T. Moore and R. G. Golledge (Eds.) Environmental knowing: Theories,  perspectives and methods.  Stroudsburg, PA: Dowden, Hutchinson and  Ross.  Pp. 32 45.']"
      ]
     },
     "metadata": {},
     "output_type": "display_data"
    },
    {
     "data": {
      "text/plain": [
       "['DeepBlue\\tThe Prediction of Preference for Familiar Urban Places ',\n",
       " 'DeepBlue\\tThe prediction of preference for unfamiliar urban places ',\n",
       " 'DeepBlue\\tThe prediction of preference for unfamiliar urban places ',\n",
       " 'T. R. Herzog, S. Kaplan and R. Kaplan. (1976)  The prediction of preference for familiar urban places.  Environment and Behavior, 8, 627 645.']"
      ]
     },
     "metadata": {},
     "output_type": "display_data"
    },
    {
     "data": {
      "text/plain": [
       "['S. Kaplan. (1977)  Tranquility and challenge in the natural environment.  In Children, nature and the urban environment.  USDA Forest Service General Technical Report NE 30.  Pp. 181 185.']"
      ]
     },
     "metadata": {},
     "output_type": "display_data"
    },
    {
     "data": {
      "text/plain": [
       "['S. Kaplan. (1977)  Participation in the design process: A cognitive  approach.  In D. Stokols (Ed.)  Perspectives on environment and behavior:  Theory, research and application. NY: Plenum. Pp. 221 233.']"
      ]
     },
     "metadata": {},
     "output_type": "display_data"
    },
    {
     "data": {
      "text/plain": [
       "['DeepBlue\\tThe experience of the environment ',\n",
       " 'S. Kaplan and R. Kaplan. (1977)  The experience of the environment. Man Environment Systems, 7, 300 305.']"
      ]
     },
     "metadata": {},
     "output_type": "display_data"
    },
    {
     "data": {
      "text/plain": [
       "[\"S. Kaplan and R. Kaplan (Eds.). (1978)  Humanscape: Environments for people. Belmont, CA: Duxbury.  (Republished by Ann Arbor, MI: Ulrich's, 1982.)\"]"
      ]
     },
     "metadata": {},
     "output_type": "display_data"
    },
    {
     "data": {
      "text/plain": [
       "['S. Kaplan. (1978)  Perception of an uncertain environment.  Pp. 30 35 in Humanscape.']"
      ]
     },
     "metadata": {},
     "output_type": "display_data"
    },
    {
     "data": {
      "text/plain": [
       "['S. Kaplan.  (1978)  On knowing the environment.  Pp. 54 58 in Humanscape.']"
      ]
     },
     "metadata": {},
     "output_type": "display_data"
    },
    {
     "data": {
      "text/plain": [
       "['S. Kaplan. (1978)  Attention and fascination: The search for cognitive clarity.  Pp. 84 90 in Humanscape.']"
      ]
     },
     "metadata": {},
     "output_type": "display_data"
    },
    {
     "data": {
      "text/plain": [
       "['S. Kaplan. (1979)  Concerning the power of content identifying methodologies.  In Assessing amenity resource values.  USDA Forest Service General Technical Report RM 68.  Pp. 4 13.']"
      ]
     },
     "metadata": {},
     "output_type": "display_data"
    },
    {
     "data": {
      "text/plain": [
       "['S. Kaplan. (1979)  Perception and landscape: Conceptions and misconceptions. In Proceedings of Our National Landscape Conference.  USDA Forest Service General Technical Report PSW 35.  Pp. 241 248.']"
      ]
     },
     "metadata": {},
     "output_type": "display_data"
    },
    {
     "data": {
      "text/plain": [
       "['DeepBlue\\tThe Prediction of Preference for Familiar Urban Places ',\n",
       " 'DeepBlue\\tThe prediction of preference for unfamiliar urban places ',\n",
       " 'DeepBlue\\tThe prediction of preference for unfamiliar urban places ',\n",
       " 'T. R. Herzog, S. Kaplan and R. Kaplan. (1982)  The prediction of preference for unfamiliar urban places.  Population and Environment,  5, 43 59.']"
      ]
     },
     "metadata": {},
     "output_type": "display_data"
    },
    {
     "data": {
      "text/plain": [
       "['S. Kaplan. (1982)  Where cognition and affect meet: A theoretical analysis of preference.  In P. Bart, A. Chen and G. Francescato (Eds.)  Knowledge for design.  Washington, D.C.: EDRA. Pp.183 188.']"
      ]
     },
     "metadata": {},
     "output_type": "display_data"
    },
    {
     "data": {
      "text/plain": [
       "[\"S. Kaplan and R. Kaplan. (1982)  Cognition and environment: Functioning in an uncertain world.   New York: Praeger.  (Republished by Ann Arbor, MI: Ulrich's, 1989.)\"]"
      ]
     },
     "metadata": {},
     "output_type": "display_data"
    },
    {
     "data": {
      "text/plain": [
       "['S. Kaplan. (1982)  Lost in Chelm: Maladaptive behavior in an adaptive model.  (Commentary on I. Lieblich and M. A. Arbib \"Multiple representations of space underlying behavior.\")  Behavioral and Brain Sciences, 5, 643 644.']"
      ]
     },
     "metadata": {},
     "output_type": "display_data"
    },
    {
     "data": {
      "text/plain": [
       "['DeepBlue\\tThe experience of the environment ',\n",
       " 'S. Kaplan and J. F. Talbot. (1983)  Psychological benefits of a wilderness experience.  In I. Altman and J. F. Wohlwill (Eds.)  Behavior and the natural environment.  New York: Plenum.  Pp. 163 203.']"
      ]
     },
     "metadata": {},
     "output_type": "display_data"
    },
    {
     "data": {
      "text/plain": [
       "['S. Kaplan. (1983)  A model of person environment compatibility.  Environment and Behavior, 15, 311 332.']"
      ]
     },
     "metadata": {},
     "output_type": "display_data"
    },
    {
     "data": {
      "text/plain": [
       "['DeepBlue\\tEnvironmental Preference ',\n",
       " 'S. Kaplan. (1984)  Landscape preference and human evolution: The aesthetics of function.  In A. S. Devlin and S. L. Taylor (Eds.) Environmental preference and landscape management.  New London, CT: Connecticut College.']"
      ]
     },
     "metadata": {},
     "output_type": "display_data"
    },
    {
     "data": {
      "text/plain": [
       "['S. Kaplan. (1984)  Molar concepts and mentalistic theories: A moral approach. (Comments on B.F. Skinner\\'s \"The phylogeny and ontogeny of behavior.) Behavioral and Brain Sciences, 7, 692 693.']"
      ]
     },
     "metadata": {},
     "output_type": "display_data"
    },
    {
     "data": {
      "text/plain": [
       "['S. Kaplan. (1984)  A process oriented approach to concerns in environmental decision making. In S. L. Hart, G. A. Enk and  W. F. Hornick (Eds.) Improving impact assessment:  Increasing the  relevance and utilization of technical and scientific information.  Boulder, CO: Westview Press. Pp. 21 35.']"
      ]
     },
     "metadata": {},
     "output_type": "display_data"
    },
    {
     "data": {
      "text/plain": [
       "['DeepBlue\\tAffect and cognition in the context of home: The quest for intangibles ',\n",
       " 'S. Kaplan. (1984)  Affect and cognition in the context of home: The quest for intangibles.  Population and Environment, 7, 126 133.']"
      ]
     },
     "metadata": {},
     "output_type": "display_data"
    },
    {
     "data": {
      "text/plain": [
       "['S. Kaplan. (1985)  Review of Christopher Alexander: The search for a new paradigm in architecture by S. Grabow.  Environment and Behavior, 17, 405 408.']"
      ]
     },
     "metadata": {},
     "output_type": "display_data"
    },
    {
     "data": {
      "text/plain": [
       "[\"S. Kaplan (1985) Cognition and affect in environmental learning.  Children's Environmental Quarterly, 2(3), 19 21.\"]"
      ]
     },
     "metadata": {},
     "output_type": "display_data"
    },
    {
     "data": {
      "text/plain": [
       "['DeepBlue\\tAesthetics and management: bridging the gap ',\n",
       " 'T. Brown, T. Keane and S. Kaplan. (1986)  Aesthetics and management: Bridging the gap.  Landscape and Urban Planning, 13, 1 10.']"
      ]
     },
     "metadata": {},
     "output_type": "display_data"
    },
    {
     "data": {
      "text/plain": [
       "['DeepBlue\\tConservation behavior and the structure of satisfactions ',\n",
       " 'R. De Young and S. Kaplan. (1985 86) Conservation behavior and the structure of satisfaction.  Journal of Environmental Systems, 15(3), 233 242.']"
      ]
     },
     "metadata": {},
     "output_type": "display_data"
    },
    {
     "data": {
      "text/plain": [
       "['DeepBlue\\tPerspectives on wilderness: Re-examining the value of extended wilderness experiences ',\n",
       " 'J. F. Talbot and S. Kaplan (1986)  Perspectives on wilderness: Re examining the value of extended wilderness experiences.  Journal of Environmental Psychology, 6, 177 188.']"
      ]
     },
     "metadata": {},
     "output_type": "display_data"
    },
    {
     "data": {
      "text/plain": [
       "['DeepBlue\\tAesthetics, Affect, and Cognition ',\n",
       " 'S. Kaplan (1987)  Aesthetics, affect and cognition: Environmental preference from an evolutionary perspective.  Environment and Behavior, 19, 3 32.']"
      ]
     },
     "metadata": {},
     "output_type": "display_data"
    },
    {
     "data": {
      "text/plain": [
       "['S. Kaplan (1987)  Mental fatigue and the designed environment.  In J. Harvey and D. Henning (Eds.)  Public environments. Washington, D.C.: EDRA. Pp. 55 60.']"
      ]
     },
     "metadata": {},
     "output_type": "display_data"
    },
    {
     "data": {
      "text/plain": [
       "['DeepBlue\\tPatterns as hypotheses: An empirical test ',\n",
       " 'S. Kaplan, F. D. Dale and R. Kaplan (1987)  Patterns as hypotheses: An empirical test.  In J. Harvey and D. Henning (Eds.)  Public environments. Washington, D.C.: EDRA. Pp. 188 193.']"
      ]
     },
     "metadata": {},
     "output_type": "display_data"
    },
    {
     "data": {
      "text/plain": [
       "['S. Kaplan  (1987) Associative learning and the cognitive map:  Differences  in intelligenceas expressions of a common learning mechanism.  (Commentary  on Macphail\\'s \"The comparative psychology of intelligence\")  Behavioral and Brain Sciences, 1987, 10, 672 673.']"
      ]
     },
     "metadata": {},
     "output_type": "display_data"
    },
    {
     "data": {
      "text/plain": [
       "['R. Kaplan and S. Kaplan (1987) The garden as restorative experience: A research odyssey. In M. Francis and R. Hester (Eds.) Meanings of the garden conference proceedings. Davis, CA: Center for Design Research, University of California.  Pp. 335 341.']"
      ]
     },
     "metadata": {},
     "output_type": "display_data"
    },
    {
     "data": {
      "text/plain": [
       "['DeepBlue\\tOn averting the tragedy of the commons ',\n",
       " 'R. De Young and S. Kaplan (1988) On averting the tragedy of the commons.  Environmental Management, 1988, 12(3), 273 283.']"
      ]
     },
     "metadata": {},
     "output_type": "display_data"
    },
    {
     "data": {
      "text/plain": [
       "['S. Kaplan (1988) Review of Parallel distributed processing: Explorations in the microstructure of cognition, Vol. 1 & 2.  American Scientist, 76, 309 310.']"
      ]
     },
     "metadata": {},
     "output_type": "display_data"
    },
    {
     "data": {
      "text/plain": [
       "['S. Kaplan (1988) Some principles the Handbook left out: Notes to the neophyte researcher interested in changing the world.  (Comments on Handbook of environmental psychology).  Journal of Environmental Psychology, 8, 165 166.']"
      ]
     },
     "metadata": {},
     "output_type": "display_data"
    },
    {
     "data": {
      "text/plain": [
       "['S. Kaplan (1988)  Where cognition and affect meet: A theoretical analysis of preference.  In J. L. Nasar (Ed.)  Environmental aesthetics: Theory, research and application.  New York: Cambridge University Press. Pp. 56 63.  (Originally published in P. Bart, et al., 1982.)']"
      ]
     },
     "metadata": {},
     "output_type": "display_data"
    },
    {
     "data": {
      "text/plain": [
       "['S. Kaplan (1988)  Perception and landscape: Conceptions and misconceptions.  In J. L. Nasar (Ed.)  Environmental aesthetics: Theory, research and application. New York: Cambridge University Press. Pp. 45 55. (Originally published in Our National Landscape, 1979.)']"
      ]
     },
     "metadata": {},
     "output_type": "display_data"
    },
    {
     "data": {
      "text/plain": [
       "['M. C. Monroe and S. Kaplan (1988)  When words speak louder than actions:  Environmental problem solving in the classroom.  Journal of Environmental Education, 19, 3, 38 41.']"
      ]
     },
     "metadata": {},
     "output_type": "display_data"
    },
    {
     "data": {
      "text/plain": [
       "['B. A. Whitehead, A. E. Fusillo, and S. Kaplan  (1988)  The design of physical environments and health behavior.  In D. S. Gochman (Ed.)  Health behavior: Emerging research perspectives.  New York: Plenum.  Pp. 231 241.']"
      ]
     },
     "metadata": {},
     "output_type": "display_data"
    },
    {
     "data": {
      "text/plain": [
       "['DeepBlue\\tThe visual environment: Public participation in design and planning ',\n",
       " 'S. Kaplan and R. Kaplan (1989)  The visual environment: Public participation in design and planning.  Journal of Social Issues, 45, 59 86.']"
      ]
     },
     "metadata": {},
     "output_type": "display_data"
    },
    {
     "data": {
      "text/plain": [
       "['DeepBlue\\tEnvironmental Preference ',\n",
       " 'R. Kaplan, S. Kaplan and T. Brown (1989)  Environmental preference: A comparison of four domains of predictors.  Environment and Behavior, 21, 509 530.']"
      ]
     },
     "metadata": {},
     "output_type": "display_data"
    },
    {
     "data": {
      "text/plain": [
       "['R. Kaplan and S. Kaplan (1989)  The experience of nature: A psychological perspective.  New York: Cambridge University Press.']"
      ]
     },
     "metadata": {},
     "output_type": "display_data"
    },
    {
     "data": {
      "text/plain": [
       "['S. Kaplan (1989)  Past environments and past stories in human effectiveness and well being.  In G. Hardie, R. Moore and H. Sanoff (Eds.)  Changing paradigms.  Oklahoma City: EDRA.    Pp. 223 228.']"
      ]
     },
     "metadata": {},
     "output_type": "display_data"
    },
    {
     "data": {
      "text/plain": [
       "['R. M. Lesperance and S. Kaplan (1989)  A non spatial solution to a spatial problem.  Behavioral and Brain Sciences, 12, 408 409.']"
      ]
     },
     "metadata": {},
     "output_type": "display_data"
    },
    {
     "data": {
      "text/plain": [
       "['M. C. Monroe and S. Kaplan (1989)  A few more words on \"Words and actions\": Reaction to a recent commentary.  Journal of Environmental Education, 20, 3 5.']"
      ]
     },
     "metadata": {},
     "output_type": "display_data"
    },
    {
     "data": {
      "text/plain": [
       "['DeepBlue\\tActive symbols and internal models: Towards a cognitive connectionism ',\n",
       " 'S. Kaplan, M. Weaver and R. M. French (1990)  Active symbols and internal models: Towards a cognitive connectionism.  AI and Society, 4, 51 71.']"
      ]
     },
     "metadata": {},
     "output_type": "display_data"
    },
    {
     "data": {
      "text/plain": [
       "['M. Weaver and S. Kaplan  (1990)  Connectionist learning and the challenge of real environments.  Behavioral and Brain Sciences, 13, 510 511.']"
      ]
     },
     "metadata": {},
     "output_type": "display_data"
    },
    {
     "data": {
      "text/plain": [
       "['S. Kaplan (1990)  Parks for the future: A psychological perspective.  Stad & Land, 1990, #85, 4 22.']"
      ]
     },
     "metadata": {},
     "output_type": "display_data"
    },
    {
     "data": {
      "text/plain": [
       "['S. Kaplan (1990)  Being needed, adaptive muddling and human environment relationships.  In R. I. Selby, K. H. Anthony, J. Choi and B. Orland (Eds.)   Coming of age.  Oklahoma City: EDRA.   Pp. 19 25.']"
      ]
     },
     "metadata": {},
     "output_type": "display_data"
    },
    {
     "data": {
      "text/plain": [
       "['R. Kaplan and S. Kaplan (1990)  Restorative experience: The healing power of nearby nature.  In M. Francis and R. T. Hester, Jr. (Eds.)  The meaning of gardens.  Cambridge, MA: MIT Press.   Pp. 238 243.']"
      ]
     },
     "metadata": {},
     "output_type": "display_data"
    },
    {
     "data": {
      "text/plain": [
       "['S. Kaplan, M. Sonntag, E. Chown  (1991)  Tracing Recurrent Activity in  Cognitive Elements (TRACE): A model of temporal dynamics in a cell assembly.   Connection Science, 3, 179-206.']"
      ]
     },
     "metadata": {},
     "output_type": "display_data"
    },
    {
     "data": {
      "text/plain": [
       "['S. Kaplan (1991)  Beyond rationality: Clarity based decision making.  In T. Gärling and G. Evans (Eds.)  Environment, cognition and action: An integrative multidisciplinary approach.  New York: Oxford University Press.  Pp. 171-190.']"
      ]
     },
     "metadata": {},
     "output_type": "display_data"
    },
    {
     "data": {
      "text/plain": [
       "['DeepBlue\\tEnvironmental Preference ',\n",
       " 'S. Kaplan (1992)  Environmental preference in a knowledge seeking knowledge using organism. In J. H. Barkow, L. Cosmides, and J. Tooby (Eds.) The adaptive mind.  New York:  Oxford University Press.  Pp. 535-552.']"
      ]
     },
     "metadata": {},
     "output_type": "display_data"
    },
    {
     "data": {
      "text/plain": [
       "['DeepBlue\\tActive symbols and internal models: Towards a cognitive connectionism ',\n",
       " 'S. Kaplan, M. Weaver and R. M. French  (1992)  Active symbols and internal  models: Towards a cognitive connectionism.  In A. Clark and R. Lutz (Eds.)  Connectionism in context.  London: Springer-Verlag.  Pp. 91-110.']"
      ]
     },
     "metadata": {},
     "output_type": "display_data"
    },
    {
     "data": {
      "text/plain": [
       "['S. Kaplan (1992) The restorative environment: Nature and human  experience.  In D. Relf (Ed.)  The role of horticulture in human well being  and social development.  Portland, OR: Timber Press.  Pp. 134-142']"
      ]
     },
     "metadata": {},
     "output_type": "display_data"
    },
    {
     "data": {
      "text/plain": [
       "['E. Chown and S. Kaplan  (1992) Active symbols, limited storage and the power of natural intelligence.  Brain and Behavioral Sciences, 15(3), 442-443.']"
      ]
     },
     "metadata": {},
     "output_type": "display_data"
    },
    {
     "data": {
      "text/plain": [
       "['L. V. Bardwell and S. Kaplan (1992)  The impact of the introductory environmental course: Guilt and despair vs. Hope and commitment.   Environmental Professional, 14, 346-350.']"
      ]
     },
     "metadata": {},
     "output_type": "display_data"
    },
    {
     "data": {
      "text/plain": [
       "['DeepBlue\\tThe Museum as a Restorative Environment ',\n",
       " 'S. Kaplan, L. V. Bardwell, D. A. Slakter (1993)  The museum as a restorative experience.  Environment and Behavior, 25, 725-742.']"
      ]
     },
     "metadata": {},
     "output_type": "display_data"
    },
    {
     "data": {
      "text/plain": [
       "['DeepBlue\\tFactors that Enhance Effectiveness of Visitor Maps ',\n",
       " 'J. F. Talbot, R. Kaplan, F. E. Kuo and S. Kaplan (1993) Factors that enhance effectiveness of visitor maps.  Environment and Behavior, 25, 743-760.']"
      ]
     },
     "metadata": {},
     "output_type": "display_data"
    },
    {
     "data": {
      "text/plain": [
       "['DeepBlue\\tHealth and environment: A psychological analysis ',\n",
       " 'S. Kaplan and C. Peterson (1993)  Health and environment: A psychological analysis.  Landscape and Urban Planning, 26, 17-23.']"
      ]
     },
     "metadata": {},
     "output_type": "display_data"
    },
    {
     "data": {
      "text/plain": [
       "['S. Kaplan  (1993)  The role of natural environment aesthetics in the restorative experience.  In P. H. Gobster (Ed.)  Managing urban and high-use recreation settings.   St. Paul, MN: Forest Service, USDA.  General Technical Report NC-163.  Pp. 46-49.']"
      ]
     },
     "metadata": {},
     "output_type": "display_data"
    },
    {
     "data": {
      "text/plain": [
       "['S. Kaplan, L. V. Bardwell and D. A. Slakter (1993)  The restorative experience as a museum benefit.  Journal of Museum Education, 18, 3, 15-18.']"
      ]
     },
     "metadata": {},
     "output_type": "display_data"
    },
    {
     "data": {
      "text/plain": [
       "['DeepBlue\\tPrototypes, Location, and Associative Networks (PLAN): Towards a Unified Theory of Cognitive Mapping ',\n",
       " 'E. Chown, S. Kaplan and D. Kortenkamp  (1995)  Prototypes, location, and associative networks (PLAN): Towards a unified theory of cognitive mapping.  Cognitive Science, 19, 1-51.']"
      ]
     },
     "metadata": {},
     "output_type": "display_data"
    },
    {
     "data": {
      "text/plain": [
       "['S. Kaplan (1995)  The urban forest as a source of psychological well-being.  In']"
      ]
     },
     "metadata": {},
     "output_type": "display_data"
    },
    {
     "data": {
      "text/plain": [
       "['G. A. Bradley (Ed.)  Urban forest landscapes: Integrating multidisciplinary perspectives.  Seattle: University of Washington Press.  Pp. 101-108.']"
      ]
     },
     "metadata": {},
     "output_type": "display_data"
    },
    {
     "data": {
      "text/plain": [
       "['S. Kaplan (1995)  Review of The Biophilia Hypothesis (S. R. Kellert & E. O. Wilson, Eds.).  Environment and Behavior, 27, 801-804.']"
      ]
     },
     "metadata": {},
     "output_type": "display_data"
    },
    {
     "data": {
      "text/plain": [
       "['S. Kaplan  (1995)  The restorative benefits of nature: Toward an integrative framework.  Journal of Environmental Psychology, 15, 169-182.']"
      ]
     },
     "metadata": {},
     "output_type": "display_data"
    },
    {
     "data": {
      "text/plain": [
       "[\"M. Hucka, M. Weaver, and S. Kaplan (1995)  Hebb's accomplishments misunderstood.  Behavioral and Brain Sciences, 18, 635-636.\"]"
      ]
     },
     "metadata": {},
     "output_type": "display_data"
    },
    {
     "data": {
      "text/plain": [
       "['DeepBlue\\tThe corporate back-40: Employee benefits of wildlife enhancement efforts on corporate land ',\n",
       " 'R. Kaplan, L. V. Bardwell, H. A. Ford, and S. Kaplan (1996) The corporate back-40: Employee benefits of wildlife enhancement efforts on corporate land.  Human Dimensions of Wildlife, 1(2), 1-13.']"
      ]
     },
     "metadata": {},
     "output_type": "display_data"
    },
    {
     "data": {
      "text/plain": [
       "['DeepBlue\\tToward a Methodology for the Measurement of Knowledge Structures of Ordinary People ',\n",
       " 'A. R. Kearney and S. Kaplan (1997) Toward a methodology for the measurement of the knowledge structures of ordinary people: The Conceptual Content Cognitive Map (3CM). Environment and Behavior, 29, 5, 579-617.']"
      ]
     },
     "metadata": {},
     "output_type": "display_data"
    },
    {
     "data": {
      "text/plain": [
       "['D. A. Schwartz, E. Ivanich, and S. Kaplan (1997). Suppression, attention and effort: A proposed enhancement for a promising theory.  Behavioral and Brain Sciences, 20, 36-37.']"
      ]
     },
     "metadata": {},
     "output_type": "display_data"
    },
    {
     "data": {
      "text/plain": [
       "['R. Kaplan, S. Kaplan, and R. L. Ryan (1998) With people in mind: Design and management of everyday nature.  Washington, D.C.: Island Press.']"
      ]
     },
     "metadata": {},
     "output_type": "display_data"
    },
    {
     "data": {
      "text/plain": [
       "['DeepBlue\\tStakeholder perspectives on appropriate forest management in the Pacific Northwest ',\n",
       " 'A. R. Kearney, G. Bradley, R. Kaplan, and S. Kaplan (1999) Stakeholder perspectives on appropriate forest management in the Pacific Northwest. Forest Science, 45, 62-73']"
      ]
     },
     "metadata": {},
     "output_type": "display_data"
    },
    {
     "data": {
      "text/plain": [
       "['E. Ivancich, C. Huyck, and S. Kaplan (1999) Cell assemblies as building blocks of larger cognitive structures. Behavioral and Brain Sciences, 22, 292-293.']"
      ]
     },
     "metadata": {},
     "output_type": "display_data"
    },
    {
     "data": {
      "text/plain": [
       "['S. Kaplan and L. L. Fu (1999) Making room for insight and incrementalism in the same brain:    The contribution of D. O. Hebb. Psycoloquy (Psyc/1999.volume10/psyc99.10.76.lashley-hebb.8.kaplan)']"
      ]
     },
     "metadata": {},
     "output_type": "display_data"
    },
    {
     "data": {
      "text/plain": [
       "['D. A. Schwartz, M. Weaver, and S. Kaplan.  (1999) A little mechanism can go a long way. Behavioral and Brain Sciences, 22, 631-632.']"
      ]
     },
     "metadata": {},
     "output_type": "display_data"
    },
    {
     "data": {
      "text/plain": [
       "['D. A. Schwartz and S. Kaplan (2000). Concentration and attention: New directions in theory and assessment. (Pp. 242-255) in D. Clements-Croome (Ed.) Creating a productive workplace. London: Routledge.']"
      ]
     },
     "metadata": {},
     "output_type": "display_data"
    },
    {
     "data": {
      "text/plain": [
       "['J. E. Ivancich, D. A. Schwartz, and S. Kaplan (2000) Integrating exemplars in category learning: Better late than never, but better early than late. Behavioral and Brain Sciences, 23, 481-482.']"
      ]
     },
     "metadata": {},
     "output_type": "display_data"
    },
    {
     "data": {
      "text/plain": [
       "['S. Kaplan. (2000) Human nature and environmentally responsible behavior. Journal of Social Issues, 56(3), 491-508.']"
      ]
     },
     "metadata": {},
     "output_type": "display_data"
    },
    {
     "data": {
      "text/plain": [
       "['S. Kaplan. (2001) Meditation, Restoration and the Management of Mental Fatigue. Environment and Behavior, 33, 480-506.']"
      ]
     },
     "metadata": {},
     "output_type": "display_data"
    },
    {
     "data": {
      "text/plain": [
       "['K. N. Irvine, and S. Kaplan. (2001) Coping with change: The small experiment as a strategic approach to environmental sustainability. Journal of Environmental Management, 28(6), 713-725.']"
      ]
     },
     "metadata": {},
     "output_type": "display_data"
    },
    {
     "data": {
      "text/plain": [
       "['S. Kaplan. (2001) The restorative environment: Nature and human experience. In M. R. DeHart and J. R. Brown (Eds.) Horticultural therapy: A guide for all seasons. St Louis, MO: National Garden Clubs.  Pp. 8-11.  (Adapted from S. Kaplan, 1992)']"
      ]
     },
     "metadata": {},
     "output_type": "display_data"
    },
    {
     "data": {
      "text/plain": [
       "['E. Chown, L. B. Booker,and S. Kaplan  (2001) Perception, action planning, and cognitive maps. Behavioral and Brain Science, 24(5), 882+.']"
      ]
     },
     "metadata": {},
     "output_type": "display_data"
    },
    {
     "data": {
      "text/plain": [
       "['S. Kaplan (2002) Environmental psychology: Cognition, affect and meaningful action.In S. F. Davis and W. Buskist (Eds.) The teaching of psychology: Essays in honors of Wilbert J. McKeachie and Charles L. Brewer. Mahwah, NJ: Erlbaum. Pages 471-483']"
      ]
     },
     "metadata": {},
     "output_type": "display_data"
    },
    {
     "data": {
      "text/plain": [
       "['R. Kaplan, and S. Kaplan. (2002) Adolescents and the natural environment: A time out? In P. H. Kahn, Jr. and S. R. Kellert (Eds.) Children and nature: Theoretical, conceptual, and empirical investigations. Cambridge, MA: MIT Press. Pages 227-258.']"
      ]
     },
     "metadata": {},
     "output_type": "display_data"
    },
    {
     "data": {
      "text/plain": [
       "['DeepBlue\\tEnvironmental Preference ',\n",
       " 'S. Kaplan. (2002) Environmental psychology. Encyclopedia of Cognitive Science. London: Macmillan Reference Ltd.  Pp. 1141-1145.']"
      ]
     },
     "metadata": {},
     "output_type": "display_data"
    },
    {
     "data": {
      "text/plain": [
       "['DeepBlue\\tToward a better understanding of pro-social behavior: The role of evolution and directed attention. ',\n",
       " 'S. Kaplan and R. De Young. (2002) Toward a better understanding of prosocial behavior: The role of evolution and directed attention. Brain and Behavioral Sciences, 25, 263-264.']"
      ]
     },
     "metadata": {},
     "output_type": "display_data"
    },
    {
     "data": {
      "text/plain": [
       "['DeepBlue\\tHealth, supportive environments and the reasonable person model ',\n",
       " 'S. Kaplan and R. Kaplan (2003) Health, supportive environments and the reasonable person model. American Journal of Public Health, 93(9) 1484-1489']"
      ]
     },
     "metadata": {},
     "output_type": "display_data"
    },
    {
     "data": {
      "text/plain": [
       "['R. Kaplan, M. E. Austin, and S. Kaplan. (2004) Open space communities: Resident perception, nature benefits, and terminological problems. Journal of the American Planning Association. 70(3), 300-312.']"
      ]
     },
     "metadata": {},
     "output_type": "display_data"
    },
    {
     "data": {
      "text/plain": [
       "['S. Kaplan (2004) Some hidden benefits of the urban forest. In C.C. Konijnendijk, J. Schipperijn and K. H. Hoyer (Eds.) Forestry serving urbanised societies. (Selected Papers from conference jointly organized by IUFRO, EFI and the Danish Centre for Forest, Landscape and Planning in Copenhagen, 27-30 August 2002).Vienna, Austria: IUFRO (IUFRO World Series Vol. 14). Pp. 221-232.']"
      ]
     },
     "metadata": {},
     "output_type": "display_data"
    },
    {
     "data": {
      "text/plain": [
       "['R. Kaplan and S. Kaplan (2005) Preference, Restoration, and Meaningful Action in the Context of Nearby Nature. In P. F. Barlett (Ed.) Urban place: Reconnecting with the natural world. Cambridge, MA: MIT Press.  (Pp. 271-298)']"
      ]
     },
     "metadata": {},
     "output_type": "display_data"
    },
    {
     "data": {
      "text/plain": [
       "['DeepBlue\\tThe monastery as a restorative environment ',\n",
       " 'P. Ouellette, R. Kaplan and S. Kaplan (2005) The monastery as a restorative environment. Journal of Environmental Psychology, 25(2), 175-188.']"
      ]
     },
     "metadata": {},
     "output_type": "display_data"
    },
    {
     "data": {
      "text/plain": [
       "[\"DeepBlue\\tFactors shaping local land use decisions: Citizen planners' perceptions and challenges \",\n",
       " \"R. Kaplan, S. Kaplan and M. E. Austin (2008) Factors shaping local land use decisions: Citizen planners' perceptions and challenges. Environment and Behavior, 40(1), 46-71.\"]"
      ]
     },
     "metadata": {},
     "output_type": "display_data"
    },
    {
     "data": {
      "text/plain": [
       "['L. Bardwell and S. Kaplan (2008, winter). Creating a generation of problem-solvers: A cognitive perspective on service-learning. Information for Action: A Journal for Research on Service-Learning for Children and Youth. http://www.service-learningpartnership.org/ifa_journal/winter_2008/CreatingaGenerationofProblemSolvers.pdf']"
      ]
     },
     "metadata": {},
     "output_type": "display_data"
    },
    {
     "data": {
      "text/plain": [
       "['DeepBlue\\tPublic perception as support for scenic quality regulation in a nationally treasured landscape ',\n",
       " 'A. R. Kearney, G. A. Bradley, C. H. Petrich, R. Kaplan, S. Kaplan, and D. Simpson-Colebank. (2008). Public perception as support for scenic quality regulation in a nationally treasured landscape. Landscape and Urban Planning. 87(2), 117-128.']"
      ]
     },
     "metadata": {},
     "output_type": "display_data"
    },
    {
     "data": {
      "text/plain": [
       "['DeepBlue\\tBringing out the best in people: A psychological perspective ',\n",
       " 'R. Kaplan and S. Kaplan (2008) Bringing out the best in people: A psychological perspective. Conservation Biology, 22(4), 826-829.']"
      ]
     },
     "metadata": {},
     "output_type": "display_data"
    },
    {
     "data": {
      "text/plain": [
       "['Berman, M.G., Jonides, J., and Kaplan, S. (2008). The cognitive benefits of interacting with nature. Psychological Science, 19(12), 1207-1212.']"
      ]
     },
     "metadata": {},
     "output_type": "display_data"
    },
    {
     "data": {
      "text/plain": [
       "['DeepBlue\\tCreating a larger role for environmental psychology: The Reasonable Person Model as an integrative framework ',\n",
       " 'S. Kaplan and R. Kaplan (2009) Creating a larger role for environmental psychology: The Reasonable Person Model as an integrative framework. Journal of Environmental Psychology. 29(3), 329-339.']"
      ]
     },
     "metadata": {},
     "output_type": "display_data"
    },
    {
     "data": {
      "text/plain": [
       "['S. Kaplan (2009) In Search of the Ethical Environment. In M. Chapin, J. Bissell, M. A. L’Heureux, K. Diaz Moore, M. Rashid, and K. Spreckelmeyer (Eds.) EDRA 40: The ethical design of places.']"
      ]
     },
     "metadata": {},
     "output_type": "display_data"
    },
    {
     "data": {
      "text/plain": [
       "['S. Kaplan and M. G. Berman (2010). Directed attention as a common resource for executive functioning and self-regulation. Perspectives on Psychological Science, 5(1), 43-57.']"
      ]
     },
     "metadata": {},
     "output_type": "display_data"
    },
    {
     "data": {
      "text/plain": [
       "['DeepBlue\\tAnthropogenic - anthropogenerous: Creating environments that help people create better environments ',\n",
       " 'R. Kaplan and S. Kaplan (2011) Anthropogenic / anthropogenerous: Creating environments that help people create better environments. Landscape and Urban Planning, 100, 350-352.']"
      ]
     },
     "metadata": {},
     "output_type": "display_data"
    },
    {
     "data": {
      "text/plain": [
       "['R. Kaplan and S. Kaplan (2011) Well-being, reasonableness, and the natural environment.  Applied Psychology: Health and Well-Being, 3(3), 304-321.']"
      ]
     },
     "metadata": {},
     "output_type": "display_data"
    },
    {
     "data": {
      "text/plain": [
       "['R. Kaplan and S. Kaplan (2012) Enabling the best in people.  In R. De Young and T. Princen (Eds.) The localization reader: Adapting to the coming downshift. Cambridge, MA: MIT Press. Pp. 233-240.  (Excerpted from R. Kaplan and S. Kaplan [2008] Bringing out the best in people. Conservation Biology, 22, 826-829.)']"
      ]
     },
     "metadata": {},
     "output_type": "display_data"
    },
    {
     "data": {
      "text/plain": [
       "['M. G. Berman, E. Kross, K. M. Krpan, M. K. Askren, A. Burson, P. J. Deldin, S. Kaplan, L. Sherdell, I. H. Gotlib, and J. Jonides (2012) Interacting with nature improves cognition and affect for individuals with depression. Journal of Affective Disorders, 140(3), 300-305.']"
      ]
     },
     "metadata": {},
     "output_type": "display_data"
    },
    {
     "data": {
      "text/plain": [
       "['A.Basu, R. Kaplan and S. Kaplan (2014) Creating supportive environments to foster reasonableness and achieve sustainable well-being. In T. J. Hämäläinen and J. Michaelson (Eds.) Well-being and beyond: Broadening the public and policy discourse.  (Pp. 182-217) Cheltenham, UK:  Edward Elgar Publishing, New Horizons in Management Series.']"
      ]
     },
     "metadata": {},
     "output_type": "display_data"
    },
    {
     "data": {
      "text/plain": [
       "['S. Kaplan (2015) The expertise challenge. In  R. Kaplan and A. Basu (Eds.) Fostering reasonableness: Supportive Environments for Brining Out Our Best (Pp. 1-20). Ann Arbor, MI: Michigan Publishing.   (Pp. 54-69).']"
      ]
     },
     "metadata": {},
     "output_type": "display_data"
    }
   ],
   "source": [
    "with open(outputFile, mode='r', encoding='utf-8') as myfile:\n",
    "    for lines in citlines:\n",
    "        display(lines)\n",
    "myfile.close()"
   ]
  },
  {
   "cell_type": "code",
   "execution_count": null,
   "metadata": {},
   "outputs": [],
   "source": []
  }
 ],
 "metadata": {
  "kernelspec": {
   "display_name": "Python 3",
   "language": "python",
   "name": "python3"
  },
  "language_info": {
   "codemirror_mode": {
    "name": "ipython",
    "version": 3
   },
   "file_extension": ".py",
   "mimetype": "text/x-python",
   "name": "python",
   "nbconvert_exporter": "python",
   "pygments_lexer": "ipython3",
   "version": "3.8.5"
  }
 },
 "nbformat": 4,
 "nbformat_minor": 2
}
