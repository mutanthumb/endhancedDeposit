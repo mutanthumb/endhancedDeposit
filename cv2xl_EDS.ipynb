{
 "cells": [
  {
   "cell_type": "markdown",
   "metadata": {},
   "source": [
    "Habanero is the Python library for the CrossRef API will need to be installed locally first before running notebook. More info about habanero: https://pypi.org/project/habanero/"
   ]
  },
  {
   "cell_type": "code",
   "execution_count": null,
   "metadata": {
    "scrolled": true
   },
   "outputs": [],
   "source": [
    "#pip install habanero "
   ]
  },
  {
   "cell_type": "code",
   "execution_count": null,
   "metadata": {},
   "outputs": [],
   "source": [
    "from habanero import Crossref\n",
    "import csv #for handling output\n",
    "from IPython.display import display\n",
    "import urllib.request\n",
    "import urllib.parse\n",
    "from xml.etree import ElementTree as ET"
   ]
  },
  {
   "cell_type": "code",
   "execution_count": null,
   "metadata": {},
   "outputs": [],
   "source": [
    "cr = Crossref()"
   ]
  },
  {
   "cell_type": "markdown",
   "metadata": {},
   "source": [
    "Should get author info (Last name, First initial) for comparison"
   ]
  },
  {
   "cell_type": "code",
   "execution_count": null,
   "metadata": {},
   "outputs": [],
   "source": [
    "oauthorLast = input(\"Enter last name):\")"
   ]
  },
  {
   "cell_type": "code",
   "execution_count": null,
   "metadata": {},
   "outputs": [],
   "source": [
    "oauthorFirst = input(\"Enter first name):\")"
   ]
  },
  {
   "cell_type": "code",
   "execution_count": null,
   "metadata": {
    "scrolled": true
   },
   "outputs": [],
   "source": [
    "print(oauthorLast, oauthorFirst)"
   ]
  },
  {
   "cell_type": "code",
   "execution_count": null,
   "metadata": {},
   "outputs": [],
   "source": [
    "inputFile = input(\"Input file name path (ex: ./CV/Sheldon_CV_text_short.txt)):\")"
   ]
  },
  {
   "cell_type": "code",
   "execution_count": null,
   "metadata": {},
   "outputs": [],
   "source": [
    "print(inputFile)"
   ]
  },
  {
   "cell_type": "code",
   "execution_count": null,
   "metadata": {},
   "outputs": [],
   "source": [
    "outputFile = \"output\" + oauthorLast + oauthorFirst + \".txt\" "
   ]
  },
  {
   "cell_type": "code",
   "execution_count": null,
   "metadata": {},
   "outputs": [],
   "source": [
    "print(outputFile)"
   ]
  },
  {
   "cell_type": "code",
   "execution_count": null,
   "metadata": {
    "scrolled": true
   },
   "outputs": [],
   "source": [
    "def cv_parse(l, r):\n",
    "\n",
    "    cv_dict = dict()\n",
    "    \n",
    "\n",
    "    for z in x['message']['items']:\n",
    "        #z['search-terms']\n",
    "        \n",
    "        #cit = z.get('query', None)\n",
    "        cv_dict['Citation'] = l.rstrip()\n",
    "        \n",
    "        authors = z.get('author',None)\n",
    "        if authors != None:\n",
    "            authors = \"\"\n",
    "            \n",
    "            for a in z['author']:\n",
    "                famname = a.get('family',None) \n",
    "                if famname == None:\n",
    "                    famname = \"NoName\"\n",
    "                givname = a.get('given',None) \n",
    "                if givname == None:\n",
    "                    givname = \"NoName\"\n",
    "                fullname = famname + \", \" + givname + \"; \"\n",
    "                #print(fullname)\n",
    "                authors = authors + fullname\n",
    "            if oauthor in authors:\n",
    "                cv_dict['Author'] = authors\n",
    "            else:\n",
    "                cv_dict['Author'] = \"NotAMatch\"\n",
    "        else:\n",
    "            cv_dict['Author'] = \"No Authors Listed\"\n",
    "        \n",
    "        ppubdate = z.get('published-print',None)\n",
    "        opubdate = z.get('published-online',None)\n",
    "        if ppubdate != None:\n",
    "            cv_dict['Year'] = str(ppubdate['date-parts'][0][0])\n",
    "            if len(ppubdate['date-parts'][0]) == 1:\n",
    "                cv_dict['Month-Day'] = None \n",
    "            elif len(ppubdate['date-parts'][0]) == 2:\n",
    "                cv_dict['Month-Day'] = str(ppubdate['date-parts'][0][1])\n",
    "            elif len(ppubdate['date-parts'][0]) == 3:\n",
    "                cv_dict['Month-Day'] = str(ppubdate['date-parts'][0][1]) + \"-\" + str(ppubdate['date-parts'][0][2])\n",
    "        elif opubdate != None:\n",
    "            cv_dict['Year'] = str(opubdate['date-parts'][0][0])\n",
    "            if len(opubdate['date-parts'][0]) == 1:\n",
    "                cv_dict['Month-Day'] = None \n",
    "            elif len(opubdate['date-parts'][0]) == 2:\n",
    "                cv_dict['Month-Day'] = str(opubdate['date-parts'][0][1])\n",
    "            elif len(opubdate['date-parts'][0]) == 3:\n",
    "                cv_dict['Month-Day'] = str(opubdate['date-parts'][0][1]) + \"-\" + str(opubdate['date-parts'][0][2])\n",
    "        else:\n",
    "            cv_dict['Year'] = None\n",
    "\n",
    "        title = z.get('title', None)\n",
    "        if title != None:\n",
    "            cv_dict['Title'] = title[0]\n",
    "        else:\n",
    "            cv_dict['Title'] = None\n",
    "\n",
    "        pubtype = z.get('type',None)\n",
    "        cv_dict['Type'] = pubtype\n",
    "\n",
    "        publisher = z.get('publisher',None)\n",
    "        cv_dict['Publisher'] = publisher\n",
    "\n",
    "        jname = z.get('container-title',None)\n",
    "        if jname != None:\n",
    "            cv_dict['JournalName'] = jname[0]    \n",
    "        else:\n",
    "            cv_dict['JournalName'] = None\n",
    "            \n",
    "\n",
    "        #cv_dict['Editor'] = editor\n",
    "        \n",
    "        editor = z.get('editor',None)\n",
    "        if editor != None:\n",
    "            editors = \"\"\n",
    "            \n",
    "            for a in z['editor']:\n",
    "                famname = a.get('family',None) \n",
    "                if famname == None:\n",
    "                    famname = \"NoName\"\n",
    "                givname = a.get('given',None) \n",
    "                if givname == None:\n",
    "                    givname = \"NoName\"\n",
    "                fullname = famname + \", \" + givname + \"; \"\n",
    "                #print(fullname)\n",
    "                editors = editors + fullname\n",
    "                cv_dict['Editor'] = editors\n",
    "\n",
    "        else:\n",
    "            cv_dict['Editor'] = None\n",
    "\n",
    "        volume = z.get('volume',None)\n",
    "        cv_dict['JournalVolume'] = str(volume)\n",
    "\n",
    "        #Ask about issue?\n",
    "        issue = z.get('issue',None)\n",
    "        cv_dict['JournalIssue'] = str(issue)\n",
    "\n",
    "        page = z.get('page',None)\n",
    "        if page != None:\n",
    "            pageSplit = page.split(\"-\")\n",
    "            cv_dict['Startpage'] = str(pageSplit[0])\n",
    "            if len(pageSplit) == 1:\n",
    "                cv_dict['Endpage'] = None\n",
    "            else:\n",
    "                cv_dict['Endpage'] = str(pageSplit[1])\n",
    "        else:\n",
    "            cv_dict['Startpage'] = None\n",
    "            cv_dict['Endpage'] = None\n",
    "\n",
    "        doi = z.get('DOI',None)\n",
    "        cv_dict['DOI'] = doi\n",
    "\n",
    "        issn = z.get('issn-type',None)\n",
    "        if issn != None:\n",
    "            cv_dict['issn'] = issn[0]['value'] + \", \" + issn[0]['type']\n",
    "        else:\n",
    "            cv_dict['issn'] = None\n",
    "        \n",
    "        if issn != None:\n",
    "            srdict = dict()\n",
    "            condlist = list()\n",
    "            \n",
    "            #url = 'http://www.sherpa.ac.uk/romeo/api29.php?issn=0001-6918'\n",
    "            url = 'http://www.sherpa.ac.uk/romeo/api29.php?issn=' + issn[0]['value']\n",
    "            #print(url)\n",
    "            \n",
    "            f = urllib.request.urlopen(url)\n",
    "            srxml = f.read().decode('utf-8', errors='ignore')\n",
    "            #print(srxml)\n",
    "            root = ET.fromstring(srxml)\n",
    "\n",
    "            for p in root.findall('.//journal'):\n",
    "                srdict['journalInfo'] = \"%s | %s | %s\" % (p.find('jtitle').text, p.find('issn').text, p.find('zetocpub').text)\n",
    "\n",
    "            for c in root.findall('.//publisher/conditions/condition'): # get ALL conditions make this a list then append as needed\n",
    "                condlist.append(c.text)\n",
    "            cv_dict['SHERPA-RoMEOc'] = condlist\n",
    "\n",
    "            for c in root.findall('.//romeocolour'):\n",
    "                srdict['colour'] = \"Colour: %s\" % (c.text)\n",
    "\n",
    "            cv_dict['SHERPA-RoMEOv'] = srdict['journalInfo'] + \"; \" + srdict['colour']\n",
    "            \n",
    "            \n",
    "            #cv_dict['SHERPA-RoMEO'] = url\n",
    "    #writer.writerow(cv_dict)   \n",
    "    return(cv_dict)"
   ]
  },
  {
   "cell_type": "code",
   "execution_count": null,
   "metadata": {},
   "outputs": [],
   "source": [
    "with open(inputFile, \"r\", newline=\"\\n\") as input_file, open(outputFile, \"w\", newline=\"\\n\") as output_file:\n",
    "    #rline = input_file.readline()\n",
    "    fieldnames = ['Citation', 'Author', 'Year', 'Month-Day', 'Title', 'Type', 'Editor', 'Publisher', 'JournalName', 'JournalVolume', 'JournalIssue', 'Startpage', 'Endpage', 'DOI', 'issn', 'SHERPA-RoMEOv', 'SHERPA-RoMEOc', 'Notes']\n",
    "    writer = csv.DictWriter(output_file, delimiter = '\\t', fieldnames=fieldnames)\n",
    "    writer.writeheader()\n",
    "    #writer.writerow(['Citation', 'Author', 'Year', 'Month-Day', 'Title', 'Type', 'Editor', 'Publisher', 'JournalName', 'JournalVolume', 'JournalIssue', 'Startpage', 'Endpage', 'DOI', 'issn', 'SHERPA-RoMEO', 'Notes']) # replace with real field names\n",
    "    row = 0\n",
    "    for line in input_file:\n",
    "        # call function to parse citations\n",
    "        #print(line)\n",
    "        x = cr.works(query = line, limit = 1) \n",
    "        #print(x['message'])\n",
    "        cvd = cv_parse(line, x)\n",
    "        #print(cvd)   \n",
    "        writer.writerow(cvd)\n",
    "        row = row + 1\n",
    "        print(row)"
   ]
  },
  {
   "cell_type": "code",
   "execution_count": null,
   "metadata": {
    "scrolled": true
   },
   "outputs": [],
   "source": [
    "import pandas\n",
    "df = pandas.read_csv('EDSTemplate.txt', sep='\\t')\n",
    "pandas.set_option('display.max_rows', 500)\n",
    "pandas.set_option('display.max_colwidth', -1)\n",
    "display(df)"
   ]
  },
  {
   "cell_type": "markdown",
   "metadata": {},
   "source": [
    "To see individual citation results:"
   ]
  },
  {
   "cell_type": "code",
   "execution_count": null,
   "metadata": {},
   "outputs": [],
   "source": [
    "#Optional to see individual citation results\n",
    "\n",
    "x = cr.works(query = \"Sheldon, N.D., Costa, E., Cabrera, L., and Garcés, M., 2012, Continental climatic and weathering response to the Eocene-Oliogocene transition: Journal of Geology 120, 227–236. doi: 10.1086/663984\", limit = 1)\n",
    "print(x['message'])"
   ]
  },
  {
   "cell_type": "markdown",
   "metadata": {},
   "source": [
    "SHERPA-RoMEO API, just plug in an ISSN"
   ]
  },
  {
   "cell_type": "code",
   "execution_count": null,
   "metadata": {},
   "outputs": [],
   "source": [
    "import urllib.request\n",
    "import urllib.parse\n",
    "from xml.etree import ElementTree as ET\n",
    "url = 'http://www.sherpa.ac.uk/romeo/api29.php?issn=0016-7606'\n",
    "f = urllib.request.urlopen(url)\n",
    "srxml = f.read().decode('utf-8')\n",
    "#print(srxml)\n",
    "root = ET.fromstring(srxml)\n",
    "\n",
    "for p in root.findall('.//journal'):\n",
    "    print(\"%s | %s | %s\" % (p.find('jtitle').text, p.find('issn').text, p.find('zetocpub').text))\n",
    "    \n",
    "for c in root.findall('.//publisher/conditions/condition'): # make this a list then append as needed\n",
    "    print(\"Conditions: %s\" % (c.text))\n",
    "    \n",
    "for c in root.findall('.//romeocolour'):\n",
    "    print(\"Colour: %s\" % (c.text))\n"
   ]
  },
  {
   "cell_type": "code",
   "execution_count": null,
   "metadata": {},
   "outputs": [],
   "source": []
  }
 ],
 "metadata": {
  "kernelspec": {
   "display_name": "Python 3",
   "language": "python",
   "name": "python3"
  },
  "language_info": {
   "codemirror_mode": {
    "name": "ipython",
    "version": 3
   },
   "file_extension": ".py",
   "mimetype": "text/x-python",
   "name": "python",
   "nbconvert_exporter": "python",
   "pygments_lexer": "ipython3",
   "version": "3.6.5"
  }
 },
 "nbformat": 4,
 "nbformat_minor": 2
}
