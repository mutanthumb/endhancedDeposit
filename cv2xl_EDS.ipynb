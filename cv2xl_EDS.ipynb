{
 "cells": [
  {
   "cell_type": "markdown",
   "metadata": {},
   "source": [
    "Habanero is the Python library for the CrossRef API will need to be installed locally first before running notebook. More info about habanero: https://pypi.org/project/habanero/"
   ]
  },
  {
   "cell_type": "code",
   "execution_count": 2,
   "metadata": {
    "scrolled": true
   },
   "outputs": [],
   "source": [
    "#pip install habanero "
   ]
  },
  {
   "cell_type": "code",
   "execution_count": 1,
   "metadata": {},
   "outputs": [],
   "source": [
    "from habanero import Crossref\n",
    "import csv #for handling output\n",
    "from IPython.display import display\n",
    "import urllib.request\n",
    "import urllib.parse\n",
    "from xml.etree import ElementTree as ET"
   ]
  },
  {
   "cell_type": "code",
   "execution_count": 3,
   "metadata": {},
   "outputs": [],
   "source": [
    "cr = Crossref()"
   ]
  },
  {
   "cell_type": "markdown",
   "metadata": {},
   "source": [
    "Should get author info (Last name, First initial) for comparison"
   ]
  },
  {
   "cell_type": "code",
   "execution_count": 14,
   "metadata": {},
   "outputs": [
    {
     "name": "stdout",
     "output_type": "stream",
     "text": [
      "Enter last name):Sheldon\n"
     ]
    }
   ],
   "source": [
    "oauthorLast = input(\"Enter last name):\")"
   ]
  },
  {
   "cell_type": "code",
   "execution_count": 15,
   "metadata": {},
   "outputs": [
    {
     "name": "stdout",
     "output_type": "stream",
     "text": [
      "Enter first name):Nathan\n"
     ]
    }
   ],
   "source": [
    "oauthorFirst = input(\"Enter first name):\")"
   ]
  },
  {
   "cell_type": "code",
   "execution_count": 16,
   "metadata": {
    "scrolled": true
   },
   "outputs": [
    {
     "name": "stdout",
     "output_type": "stream",
     "text": [
      "Sheldon Nathan\n"
     ]
    }
   ],
   "source": [
    "print(oauthorLast, oauthorFirst)"
   ]
  },
  {
   "cell_type": "code",
   "execution_count": 12,
   "metadata": {},
   "outputs": [
    {
     "name": "stdout",
     "output_type": "stream",
     "text": [
      "Input file name path (ex: ./CV/Sheldon_CV_text_short.txt)):./CV/Sheldon_CV_text_short.txt\n"
     ]
    }
   ],
   "source": [
    "inputFile = input(\"Input file name path (ex: ./CV/Sheldon_CV_text_short.txt)):\")"
   ]
  },
  {
   "cell_type": "code",
   "execution_count": 17,
   "metadata": {},
   "outputs": [
    {
     "name": "stdout",
     "output_type": "stream",
     "text": [
      "./CV/Sheldon_CV_text_short.txt\n"
     ]
    }
   ],
   "source": [
    "print(inputFile)"
   ]
  },
  {
   "cell_type": "code",
   "execution_count": 24,
   "metadata": {},
   "outputs": [],
   "source": [
    "outputFile = \"output\" + oauthorLast + oauthorFirst + \".txt\" "
   ]
  },
  {
   "cell_type": "code",
   "execution_count": 25,
   "metadata": {},
   "outputs": [
    {
     "name": "stdout",
     "output_type": "stream",
     "text": [
      "outputSheldonNathan.txt\n"
     ]
    }
   ],
   "source": [
    "print(outputFile)"
   ]
  },
  {
   "cell_type": "code",
   "execution_count": 6,
   "metadata": {
    "scrolled": true
   },
   "outputs": [],
   "source": [
    "def cv_parse(l, r):\n",
    "\n",
    "    cv_dict = dict()\n",
    "    \n",
    "\n",
    "    for z in x['message']['items']:\n",
    "        #z['search-terms']\n",
    "        \n",
    "        #cit = z.get('query', None)\n",
    "        cv_dict['Citation'] = l.rstrip()\n",
    "        \n",
    "        authors = z.get('author',None)\n",
    "        if authors != None:\n",
    "            authors = \"\"\n",
    "            \n",
    "            for a in z['author']:\n",
    "                famname = a.get('family',None) \n",
    "                if famname == None:\n",
    "                    famname = \"NoName\"\n",
    "                givname = a.get('given',None) \n",
    "                if givname == None:\n",
    "                    givname = \"NoName\"\n",
    "                fullname = famname + \", \" + givname + \"; \"\n",
    "                #print(fullname)\n",
    "                authors = authors + fullname\n",
    "            if oauthor in authors:\n",
    "                cv_dict['Author'] = authors\n",
    "            else:\n",
    "                cv_dict['Author'] = \"NotAMatch\"\n",
    "        else:\n",
    "            cv_dict['Author'] = \"No Authors Listed\"\n",
    "        \n",
    "        ppubdate = z.get('published-print',None)\n",
    "        opubdate = z.get('published-online',None)\n",
    "        if ppubdate != None:\n",
    "            cv_dict['Year'] = str(ppubdate['date-parts'][0][0])\n",
    "            if len(ppubdate['date-parts'][0]) == 1:\n",
    "                cv_dict['Month-Day'] = None \n",
    "            elif len(ppubdate['date-parts'][0]) == 2:\n",
    "                cv_dict['Month-Day'] = str(ppubdate['date-parts'][0][1])\n",
    "            elif len(ppubdate['date-parts'][0]) == 3:\n",
    "                cv_dict['Month-Day'] = str(ppubdate['date-parts'][0][1]) + \"-\" + str(ppubdate['date-parts'][0][2])\n",
    "        elif opubdate != None:\n",
    "            cv_dict['Year'] = str(opubdate['date-parts'][0][0])\n",
    "            if len(opubdate['date-parts'][0]) == 1:\n",
    "                cv_dict['Month-Day'] = None \n",
    "            elif len(opubdate['date-parts'][0]) == 2:\n",
    "                cv_dict['Month-Day'] = str(opubdate['date-parts'][0][1])\n",
    "            elif len(opubdate['date-parts'][0]) == 3:\n",
    "                cv_dict['Month-Day'] = str(opubdate['date-parts'][0][1]) + \"-\" + str(opubdate['date-parts'][0][2])\n",
    "        else:\n",
    "            cv_dict['Year'] = None\n",
    "\n",
    "        title = z.get('title', None)\n",
    "        if title != None:\n",
    "            cv_dict['Title'] = title[0]\n",
    "        else:\n",
    "            cv_dict['Title'] = None\n",
    "\n",
    "        pubtype = z.get('type',None)\n",
    "        cv_dict['Type'] = pubtype\n",
    "\n",
    "        publisher = z.get('publisher',None)\n",
    "        cv_dict['Publisher'] = publisher\n",
    "\n",
    "        jname = z.get('container-title',None)\n",
    "        if jname != None:\n",
    "            cv_dict['JournalName'] = jname[0]    \n",
    "        else:\n",
    "            cv_dict['JournalName'] = None\n",
    "            \n",
    "\n",
    "        #cv_dict['Editor'] = editor\n",
    "        \n",
    "        editor = z.get('editor',None)\n",
    "        if editor != None:\n",
    "            editors = \"\"\n",
    "            \n",
    "            for a in z['editor']:\n",
    "                famname = a.get('family',None) \n",
    "                if famname == None:\n",
    "                    famname = \"NoName\"\n",
    "                givname = a.get('given',None) \n",
    "                if givname == None:\n",
    "                    givname = \"NoName\"\n",
    "                fullname = famname + \", \" + givname + \"; \"\n",
    "                #print(fullname)\n",
    "                editors = editors + fullname\n",
    "                cv_dict['Editor'] = editors\n",
    "\n",
    "        else:\n",
    "            cv_dict['Editor'] = None\n",
    "\n",
    "        volume = z.get('volume',None)\n",
    "        cv_dict['JournalVolume'] = str(volume)\n",
    "\n",
    "        #Ask about issue?\n",
    "        issue = z.get('issue',None)\n",
    "        cv_dict['JournalIssue'] = str(issue)\n",
    "\n",
    "        page = z.get('page',None)\n",
    "        if page != None:\n",
    "            pageSplit = page.split(\"-\")\n",
    "            cv_dict['Startpage'] = str(pageSplit[0])\n",
    "            if len(pageSplit) == 1:\n",
    "                cv_dict['Endpage'] = None\n",
    "            else:\n",
    "                cv_dict['Endpage'] = str(pageSplit[1])\n",
    "        else:\n",
    "            cv_dict['Startpage'] = None\n",
    "            cv_dict['Endpage'] = None\n",
    "\n",
    "        doi = z.get('DOI',None)\n",
    "        cv_dict['DOI'] = doi\n",
    "\n",
    "        issn = z.get('issn-type',None)\n",
    "        if issn != None:\n",
    "            cv_dict['issn'] = issn[0]['value'] + \", \" + issn[0]['type']\n",
    "        else:\n",
    "            cv_dict['issn'] = None\n",
    "        \n",
    "        if issn != None:\n",
    "            srdict = dict()\n",
    "            condlist = list()\n",
    "            \n",
    "            #url = 'http://www.sherpa.ac.uk/romeo/api29.php?issn=0001-6918'\n",
    "            url = 'http://www.sherpa.ac.uk/romeo/api29.php?issn=' + issn[0]['value']\n",
    "            #print(url)\n",
    "            \n",
    "            f = urllib.request.urlopen(url)\n",
    "            srxml = f.read().decode('utf-8', errors='ignore')\n",
    "            #print(srxml)\n",
    "            root = ET.fromstring(srxml)\n",
    "\n",
    "            for p in root.findall('.//journal'):\n",
    "                srdict['journalInfo'] = \"%s | %s | %s\" % (p.find('jtitle').text, p.find('issn').text, p.find('zetocpub').text)\n",
    "\n",
    "            for c in root.findall('.//publisher/conditions/condition'): # get ALL conditions make this a list then append as needed\n",
    "                condlist.append(c.text)\n",
    "            cv_dict['SHERPA-RoMEOc'] = condlist\n",
    "\n",
    "            for c in root.findall('.//romeocolour'):\n",
    "                srdict['colour'] = \"Colour: %s\" % (c.text)\n",
    "\n",
    "            cv_dict['SHERPA-RoMEOv'] = srdict['journalInfo'] + \"; \" + srdict['colour']\n",
    "            \n",
    "            \n",
    "            #cv_dict['SHERPA-RoMEO'] = url\n",
    "    #writer.writerow(cv_dict)   \n",
    "    return(cv_dict)"
   ]
  },
  {
   "cell_type": "code",
   "execution_count": 22,
   "metadata": {},
   "outputs": [
    {
     "name": "stdout",
     "output_type": "stream",
     "text": [
      "1\n",
      "2\n",
      "3\n",
      "4\n",
      "5\n",
      "6\n",
      "7\n"
     ]
    }
   ],
   "source": [
    "with open(inputFile, \"r\", newline=\"\\n\") as input_file, open(outputFile, \"w\", newline=\"\\n\") as output_file:\n",
    "    #rline = input_file.readline()\n",
    "    fieldnames = ['Citation', 'Author', 'Year', 'Month-Day', 'Title', 'Type', 'Editor', 'Publisher', 'JournalName', 'JournalVolume', 'JournalIssue', 'Startpage', 'Endpage', 'DOI', 'issn', 'SHERPA-RoMEOv', 'SHERPA-RoMEOc', 'Notes']\n",
    "    writer = csv.DictWriter(output_file, delimiter = '\\t', fieldnames=fieldnames)\n",
    "    writer.writeheader()\n",
    "    #writer.writerow(['Citation', 'Author', 'Year', 'Month-Day', 'Title', 'Type', 'Editor', 'Publisher', 'JournalName', 'JournalVolume', 'JournalIssue', 'Startpage', 'Endpage', 'DOI', 'issn', 'SHERPA-RoMEO', 'Notes']) # replace with real field names\n",
    "    row = 0\n",
    "    for line in input_file:\n",
    "        # call function to parse citations\n",
    "        #print(line)\n",
    "        x = cr.works(query = line, limit = 1) \n",
    "        #print(x['message'])\n",
    "        cvd = cv_parse(line, x)\n",
    "        #print(cvd)   \n",
    "        writer.writerow(cvd)\n",
    "        row = row + 1\n",
    "        print(row)"
   ]
  },
  {
   "cell_type": "code",
   "execution_count": 23,
   "metadata": {
    "scrolled": true
   },
   "outputs": [
    {
     "data": {
      "text/html": [
       "<div>\n",
       "<style scoped>\n",
       "    .dataframe tbody tr th:only-of-type {\n",
       "        vertical-align: middle;\n",
       "    }\n",
       "\n",
       "    .dataframe tbody tr th {\n",
       "        vertical-align: top;\n",
       "    }\n",
       "\n",
       "    .dataframe thead th {\n",
       "        text-align: right;\n",
       "    }\n",
       "</style>\n",
       "<table border=\"1\" class=\"dataframe\">\n",
       "  <thead>\n",
       "    <tr style=\"text-align: right;\">\n",
       "      <th></th>\n",
       "      <th>Citation</th>\n",
       "      <th>Author</th>\n",
       "      <th>Year</th>\n",
       "      <th>Month-Day</th>\n",
       "      <th>Title</th>\n",
       "      <th>Type</th>\n",
       "      <th>Editor</th>\n",
       "      <th>Publisher</th>\n",
       "      <th>JournalName</th>\n",
       "      <th>JournalVolume</th>\n",
       "      <th>JournalIssue</th>\n",
       "      <th>Startpage</th>\n",
       "      <th>Endpage</th>\n",
       "      <th>DOI</th>\n",
       "      <th>issn</th>\n",
       "      <th>SHERPA-RoMEOv</th>\n",
       "      <th>SHERPA-RoMEOc</th>\n",
       "      <th>Notes</th>\n",
       "    </tr>\n",
       "  </thead>\n",
       "  <tbody>\n",
       "    <tr>\n",
       "      <th>0</th>\n",
       "      <td>Hyland, E.G., Sheldon, N.D., Smith, S.Y., Stromberg, C.A.E., 2019, Late Miocene rise and fall of C4 grasses in the western United States linked to aridification and uplift. GSA Bulletin 131, 224–234. doi:10.1130/B32009.1</td>\n",
       "      <td>Hyland, Ethan G.; Sheldon, Nathan D.; Smith, Selena Y.; Strömberg, Caroline A.E.;</td>\n",
       "      <td>2019</td>\n",
       "      <td>1-1</td>\n",
       "      <td>Late Miocene rise and fall of C4 grasses in the western United States linked to aridification and uplift</td>\n",
       "      <td>journal-article</td>\n",
       "      <td>NaN</td>\n",
       "      <td>Geological Society of America</td>\n",
       "      <td>GSA Bulletin</td>\n",
       "      <td>131</td>\n",
       "      <td>1-2</td>\n",
       "      <td>224.0</td>\n",
       "      <td>234.0</td>\n",
       "      <td>10.1130/b32009.1</td>\n",
       "      <td>0016-7606, print</td>\n",
       "      <td>Geological Society of America Bulletin | 0016-7606 | Geological Society of America; Colour: white</td>\n",
       "      <td>[\"Publisher's version/PDF cannot be used\", \"On author's personal website or open access repository\", 'Must link to publisher version']</td>\n",
       "      <td>NaN</td>\n",
       "    </tr>\n",
       "    <tr>\n",
       "      <th>1</th>\n",
       "      <td>Hyland, E.G., Huntington, K.W., Sheldon, N.D., Reichgelt, T., 2018, Temperature seasonality in the North American continental interior during the Early Eocene Climatic Optimum: Climate of the Past 14, 1391–1404. doi: 10.5194/cp-13-1391-2018</td>\n",
       "      <td>Hyland, Ethan G.; Huntington, Katharine W.; Sheldon, Nathan D.; Reichgelt, Tammo;</td>\n",
       "      <td>2018</td>\n",
       "      <td>10-4</td>\n",
       "      <td>Temperature seasonality in the North American continental interior during the Early Eocene Climatic Optimum</td>\n",
       "      <td>journal-article</td>\n",
       "      <td>NaN</td>\n",
       "      <td>Copernicus GmbH</td>\n",
       "      <td>Climate of the Past</td>\n",
       "      <td>14</td>\n",
       "      <td>10</td>\n",
       "      <td>1391.0</td>\n",
       "      <td>1404.0</td>\n",
       "      <td>10.5194/cp-14-1391-2018</td>\n",
       "      <td>1814-9332, electronic</td>\n",
       "      <td>Climate of the Past | 1814-9324 | European Geosciences Union (EGU) / Copernicus Publications; Colour: green</td>\n",
       "      <td>['Authors retain copyright', 'Creative Commons Attribution License 3.0', 'Eligible UK authors may deposit in &lt;a href=\"http://opendepot.org/\" target=\"_blank\"&gt;OpenDepot&lt;/a&gt;', \"Publisher's version/PDF may be used\", 'All titles are open access journals']</td>\n",
       "      <td>NaN</td>\n",
       "    </tr>\n",
       "    <tr>\n",
       "      <th>2</th>\n",
       "      <td>Hyland, E.G., Sheldon, N.D., 2018, Comment on “Paleosol-based paleoclimate reconstruction of the Paleocene-Eocene Thermal Maximum, northern Argentina” by Andrews, E., White, T., del Papa, C. [Palaeogeography, Palaeoclimatology, Palaeoecology 471, 181–195]: Palaeogeography, Palaeoclimatology, Palaeoecology, doi: 10.1016/j.paleo.2017.05.031</td>\n",
       "      <td>NotAMatch</td>\n",
       "      <td>2017</td>\n",
       "      <td>4</td>\n",
       "      <td>Paleosol-based paleoclimate reconstruction of the Paleocene-Eocene Thermal Maximum, northern Argentina</td>\n",
       "      <td>journal-article</td>\n",
       "      <td>NaN</td>\n",
       "      <td>Elsevier BV</td>\n",
       "      <td>Palaeogeography, Palaeoclimatology, Palaeoecology</td>\n",
       "      <td>471</td>\n",
       "      <td>None</td>\n",
       "      <td>181.0</td>\n",
       "      <td>195.0</td>\n",
       "      <td>10.1016/j.palaeo.2017.01.042</td>\n",
       "      <td>0031-0182, print</td>\n",
       "      <td>Palaeogeography, Palaeoclimatology, Palaeoecology | 0031-0182 | Elsevier; Colour: green</td>\n",
       "      <td>['Authors pre-print on any website, including arXiv and RePEC', \"Author's post-print on author's personal website immediately\", 'Author\\'s post-print on open access repository after an embargo period of between &lt;num&gt;12&lt;/num&gt; &lt;period units=\"month\"&gt;months&lt;/period&gt; and &lt;num&gt;48&lt;/num&gt; &lt;period units=\"month\"&gt;months&lt;/period&gt;', 'Permitted deposit due to Funding Body, Institutional and Governmental policy or mandate, may be required to comply with embargo periods of &lt;num&gt;12&lt;/num&gt; &lt;period units=\"month\"&gt;months&lt;/period&gt; to &lt;num&gt;48&lt;/num&gt; &lt;period units=\"month\"&gt;months&lt;/period&gt;', \"Author's post-print may be used to update arXiv and RepEC\", \"Publisher's version/PDF cannot be used\", 'Must link to publisher version with DOI', \"Author's post-print must be released with a Creative Commons Attribution Non-Commercial No Derivatives License\", 'Publisher last reviewed on 03/06/2015']</td>\n",
       "      <td>NaN</td>\n",
       "    </tr>\n",
       "    <tr>\n",
       "      <th>3</th>\n",
       "      <td>Hyland, E.G., Sheldon, N.D., Cotton, J.M., 2017, Constraining the EECO: a terrestrial interhemispheric comparison: GSA Bulletin 129, 244–252. doi: 10.1130/B31493.1</td>\n",
       "      <td>Hyland, Ethan G.; Sheldon, Nathan D.; Cotton, Jennifer M.;</td>\n",
       "      <td>2017</td>\n",
       "      <td>1</td>\n",
       "      <td>Constraining the early Eocene climatic optimum: A terrestrial interhemispheric comparison</td>\n",
       "      <td>journal-article</td>\n",
       "      <td>NaN</td>\n",
       "      <td>Geological Society of America</td>\n",
       "      <td>Geological Society of America Bulletin</td>\n",
       "      <td>129</td>\n",
       "      <td>1-2</td>\n",
       "      <td>244.0</td>\n",
       "      <td>252.0</td>\n",
       "      <td>10.1130/b31493.1</td>\n",
       "      <td>0016-7606, print</td>\n",
       "      <td>Geological Society of America Bulletin | 0016-7606 | Geological Society of America; Colour: white</td>\n",
       "      <td>[\"Publisher's version/PDF cannot be used\", \"On author's personal website or open access repository\", 'Must link to publisher version']</td>\n",
       "      <td>NaN</td>\n",
       "    </tr>\n",
       "    <tr>\n",
       "      <th>4</th>\n",
       "      <td>Sheldon, N.D., Grimes, S.T., Hooker, J.J., Collinson, M.E., Bugler, M.J., Hren, M.T., Price, G.D., Sutton, P.A., 2016, Coupling of marine and continental oxygen isotope records during the Eocene-Oligocene transition: GSA Bulletin 128, 502–510. doi: 10.1130/B31315.1</td>\n",
       "      <td>Sheldon, Nathan D.; Grimes, Stephen T.; Hooker, Jerry J.; Collinson, Margaret E.; Bugler, Melanie J.; Hren, Michael T.; Price, Gregory D.; Sutton, Paul A.;</td>\n",
       "      <td>2016</td>\n",
       "      <td>3</td>\n",
       "      <td>Coupling of marine and continental oxygen isotope records during the Eocene-Oligocene transition</td>\n",
       "      <td>journal-article</td>\n",
       "      <td>NaN</td>\n",
       "      <td>Geological Society of America</td>\n",
       "      <td>Geological Society of America Bulletin</td>\n",
       "      <td>128</td>\n",
       "      <td>3-4</td>\n",
       "      <td>502.0</td>\n",
       "      <td>510.0</td>\n",
       "      <td>10.1130/b31315.1</td>\n",
       "      <td>0016-7606, print</td>\n",
       "      <td>Geological Society of America Bulletin | 0016-7606 | Geological Society of America; Colour: white</td>\n",
       "      <td>[\"Publisher's version/PDF cannot be used\", \"On author's personal website or open access repository\", 'Must link to publisher version']</td>\n",
       "      <td>NaN</td>\n",
       "    </tr>\n",
       "    <tr>\n",
       "      <th>5</th>\n",
       "      <td>Smith, S.Y., Manchester, S.R., Samant, B., Mohabey, D.M., Wheeler, E., Baas, P., Kapgate, D., Srivastava, R., Sheldon, N.D., 2015, Integrating paleobotanical, paleosol, and stratigraphic data to study critical transitions: a case study from the Late Cretaceous-Paleocene of India: Paleontological Society Special Paper 25, pp. 137–167</td>\n",
       "      <td>NotAMatch</td>\n",
       "      <td>2017</td>\n",
       "      <td>NaN</td>\n",
       "      <td>PLANT DIVERSITY OF THE CRETACEOUS-PALEOGENE DECCAN INTERTRAPPEAN BEDS: A COMPARISON OF MACROFOSSIL AND PALYNOLOGICAL DATA</td>\n",
       "      <td>proceedings-article</td>\n",
       "      <td>NaN</td>\n",
       "      <td>Geological Society of America</td>\n",
       "      <td>NaN</td>\n",
       "      <td>None</td>\n",
       "      <td>None</td>\n",
       "      <td>NaN</td>\n",
       "      <td>NaN</td>\n",
       "      <td>10.1130/abs/2017am-307683</td>\n",
       "      <td>NaN</td>\n",
       "      <td>NaN</td>\n",
       "      <td>NaN</td>\n",
       "      <td>NaN</td>\n",
       "    </tr>\n",
       "    <tr>\n",
       "      <th>6</th>\n",
       "      <td>Cotton, J.M., Sheldon, N.D., Hren, M.T., and Gallagher, T.M., 2015. Positive feedback drives carbon release from soils to atmosphere during Paleocene/Eocene warming: American Journal of Science 315, 337–361. doi: 10.2475/04.2015.03</td>\n",
       "      <td>Cotton, J. M.; Sheldon, N. D.; Hren, M. T.; Gallagher, T. M.;</td>\n",
       "      <td>2015</td>\n",
       "      <td>4-1</td>\n",
       "      <td>Positive feedback drives carbon release from soils to atmosphere during Paleocene/Eocene warming</td>\n",
       "      <td>journal-article</td>\n",
       "      <td>NaN</td>\n",
       "      <td>American Journal of Science (AJS)</td>\n",
       "      <td>American Journal of Science</td>\n",
       "      <td>315</td>\n",
       "      <td>4</td>\n",
       "      <td>337.0</td>\n",
       "      <td>361.0</td>\n",
       "      <td>10.2475/04.2015.03</td>\n",
       "      <td>0002-9599, print</td>\n",
       "      <td>American Journal of Science | 0002-9599 | American Journal of Science; Colour: gray</td>\n",
       "      <td>[\"This publisher's policies have not been checked by RoMEO.\", 'Please contact the publisher for further information if necessary']</td>\n",
       "      <td>NaN</td>\n",
       "    </tr>\n",
       "  </tbody>\n",
       "</table>\n",
       "</div>"
      ],
      "text/plain": [
       "                                                                                                                                                                                                                                                                                                                                               Citation  \\\n",
       "0  Hyland, E.G., Sheldon, N.D., Smith, S.Y., Stromberg, C.A.E., 2019, Late Miocene rise and fall of C4 grasses in the western United States linked to aridification and uplift. GSA Bulletin 131, 224–234. doi:10.1130/B32009.1                                                                                                                           \n",
       "1  Hyland, E.G., Huntington, K.W., Sheldon, N.D., Reichgelt, T., 2018, Temperature seasonality in the North American continental interior during the Early Eocene Climatic Optimum: Climate of the Past 14, 1391–1404. doi: 10.5194/cp-13-1391-2018                                                                                                       \n",
       "2  Hyland, E.G., Sheldon, N.D., 2018, Comment on “Paleosol-based paleoclimate reconstruction of the Paleocene-Eocene Thermal Maximum, northern Argentina” by Andrews, E., White, T., del Papa, C. [Palaeogeography, Palaeoclimatology, Palaeoecology 471, 181–195]: Palaeogeography, Palaeoclimatology, Palaeoecology, doi: 10.1016/j.paleo.2017.05.031   \n",
       "3  Hyland, E.G., Sheldon, N.D., Cotton, J.M., 2017, Constraining the EECO: a terrestrial interhemispheric comparison: GSA Bulletin 129, 244–252. doi: 10.1130/B31493.1                                                                                                                                                                                    \n",
       "4  Sheldon, N.D., Grimes, S.T., Hooker, J.J., Collinson, M.E., Bugler, M.J., Hren, M.T., Price, G.D., Sutton, P.A., 2016, Coupling of marine and continental oxygen isotope records during the Eocene-Oligocene transition: GSA Bulletin 128, 502–510. doi: 10.1130/B31315.1                                                                              \n",
       "5  Smith, S.Y., Manchester, S.R., Samant, B., Mohabey, D.M., Wheeler, E., Baas, P., Kapgate, D., Srivastava, R., Sheldon, N.D., 2015, Integrating paleobotanical, paleosol, and stratigraphic data to study critical transitions: a case study from the Late Cretaceous-Paleocene of India: Paleontological Society Special Paper 25, pp. 137–167         \n",
       "6  Cotton, J.M., Sheldon, N.D., Hren, M.T., and Gallagher, T.M., 2015. Positive feedback drives carbon release from soils to atmosphere during Paleocene/Eocene warming: American Journal of Science 315, 337–361. doi: 10.2475/04.2015.03                                                                                                                \n",
       "\n",
       "                                                                                                                                                         Author  \\\n",
       "0  Hyland, Ethan G.; Sheldon, Nathan D.; Smith, Selena Y.; Strömberg, Caroline A.E.;                                                                              \n",
       "1  Hyland, Ethan G.; Huntington, Katharine W.; Sheldon, Nathan D.; Reichgelt, Tammo;                                                                              \n",
       "2  NotAMatch                                                                                                                                                      \n",
       "3  Hyland, Ethan G.; Sheldon, Nathan D.; Cotton, Jennifer M.;                                                                                                     \n",
       "4  Sheldon, Nathan D.; Grimes, Stephen T.; Hooker, Jerry J.; Collinson, Margaret E.; Bugler, Melanie J.; Hren, Michael T.; Price, Gregory D.; Sutton, Paul A.;    \n",
       "5  NotAMatch                                                                                                                                                      \n",
       "6  Cotton, J. M.; Sheldon, N. D.; Hren, M. T.; Gallagher, T. M.;                                                                                                  \n",
       "\n",
       "   Year Month-Day  \\\n",
       "0  2019  1-1        \n",
       "1  2018  10-4       \n",
       "2  2017  4          \n",
       "3  2017  1          \n",
       "4  2016  3          \n",
       "5  2017  NaN        \n",
       "6  2015  4-1        \n",
       "\n",
       "                                                                                                                       Title  \\\n",
       "0  Late Miocene rise and fall of C4 grasses in the western United States linked to aridification and uplift                    \n",
       "1  Temperature seasonality in the North American continental interior during the Early Eocene Climatic Optimum                 \n",
       "2  Paleosol-based paleoclimate reconstruction of the Paleocene-Eocene Thermal Maximum, northern Argentina                      \n",
       "3  Constraining the early Eocene climatic optimum: A terrestrial interhemispheric comparison                                   \n",
       "4  Coupling of marine and continental oxygen isotope records during the Eocene-Oligocene transition                            \n",
       "5  PLANT DIVERSITY OF THE CRETACEOUS-PALEOGENE DECCAN INTERTRAPPEAN BEDS: A COMPARISON OF MACROFOSSIL AND PALYNOLOGICAL DATA   \n",
       "6  Positive feedback drives carbon release from soils to atmosphere during Paleocene/Eocene warming                            \n",
       "\n",
       "                  Type  Editor                          Publisher  \\\n",
       "0  journal-article     NaN      Geological Society of America       \n",
       "1  journal-article     NaN      Copernicus GmbH                     \n",
       "2  journal-article     NaN      Elsevier BV                         \n",
       "3  journal-article     NaN      Geological Society of America       \n",
       "4  journal-article     NaN      Geological Society of America       \n",
       "5  proceedings-article NaN      Geological Society of America       \n",
       "6  journal-article     NaN      American Journal of Science (AJS)   \n",
       "\n",
       "                                         JournalName JournalVolume  \\\n",
       "0  GSA Bulletin                                       131            \n",
       "1  Climate of the Past                                14             \n",
       "2  Palaeogeography, Palaeoclimatology, Palaeoecology  471            \n",
       "3  Geological Society of America Bulletin             129            \n",
       "4  Geological Society of America Bulletin             128            \n",
       "5  NaN                                                None           \n",
       "6  American Journal of Science                        315            \n",
       "\n",
       "  JournalIssue  Startpage  Endpage                           DOI  \\\n",
       "0  1-2          224.0      234.0    10.1130/b32009.1               \n",
       "1  10           1391.0     1404.0   10.5194/cp-14-1391-2018        \n",
       "2  None         181.0      195.0    10.1016/j.palaeo.2017.01.042   \n",
       "3  1-2          244.0      252.0    10.1130/b31493.1               \n",
       "4  3-4          502.0      510.0    10.1130/b31315.1               \n",
       "5  None        NaN        NaN       10.1130/abs/2017am-307683      \n",
       "6  4            337.0      361.0    10.2475/04.2015.03             \n",
       "\n",
       "                    issn  \\\n",
       "0  0016-7606, print        \n",
       "1  1814-9332, electronic   \n",
       "2  0031-0182, print        \n",
       "3  0016-7606, print        \n",
       "4  0016-7606, print        \n",
       "5  NaN                     \n",
       "6  0002-9599, print        \n",
       "\n",
       "                                                                                                 SHERPA-RoMEOv  \\\n",
       "0  Geological Society of America Bulletin | 0016-7606 | Geological Society of America; Colour: white             \n",
       "1  Climate of the Past | 1814-9324 | European Geosciences Union (EGU) / Copernicus Publications; Colour: green   \n",
       "2  Palaeogeography, Palaeoclimatology, Palaeoecology | 0031-0182 | Elsevier; Colour: green                       \n",
       "3  Geological Society of America Bulletin | 0016-7606 | Geological Society of America; Colour: white             \n",
       "4  Geological Society of America Bulletin | 0016-7606 | Geological Society of America; Colour: white             \n",
       "5  NaN                                                                                                           \n",
       "6  American Journal of Science | 0002-9599 | American Journal of Science; Colour: gray                           \n",
       "\n",
       "                                                                                                                                                                                                                                                                                                                                                                                                                                                                                                                                                                                                                                                                                                                                                                                                                                                                                            SHERPA-RoMEOc  \\\n",
       "0  [\"Publisher's version/PDF cannot be used\", \"On author's personal website or open access repository\", 'Must link to publisher version']                                                                                                                                                                                                                                                                                                                                                                                                                                                                                                                                                                                                                                                                                                                                                                   \n",
       "1  ['Authors retain copyright', 'Creative Commons Attribution License 3.0', 'Eligible UK authors may deposit in <a href=\"http://opendepot.org/\" target=\"_blank\">OpenDepot</a>', \"Publisher's version/PDF may be used\", 'All titles are open access journals']                                                                                                                                                                                                                                                                                                                                                                                                                                                                                                                                                                                                                                               \n",
       "2  ['Authors pre-print on any website, including arXiv and RePEC', \"Author's post-print on author's personal website immediately\", 'Author\\'s post-print on open access repository after an embargo period of between <num>12</num> <period units=\"month\">months</period> and <num>48</num> <period units=\"month\">months</period>', 'Permitted deposit due to Funding Body, Institutional and Governmental policy or mandate, may be required to comply with embargo periods of <num>12</num> <period units=\"month\">months</period> to <num>48</num> <period units=\"month\">months</period>', \"Author's post-print may be used to update arXiv and RepEC\", \"Publisher's version/PDF cannot be used\", 'Must link to publisher version with DOI', \"Author's post-print must be released with a Creative Commons Attribution Non-Commercial No Derivatives License\", 'Publisher last reviewed on 03/06/2015']   \n",
       "3  [\"Publisher's version/PDF cannot be used\", \"On author's personal website or open access repository\", 'Must link to publisher version']                                                                                                                                                                                                                                                                                                                                                                                                                                                                                                                                                                                                                                                                                                                                                                   \n",
       "4  [\"Publisher's version/PDF cannot be used\", \"On author's personal website or open access repository\", 'Must link to publisher version']                                                                                                                                                                                                                                                                                                                                                                                                                                                                                                                                                                                                                                                                                                                                                                   \n",
       "5  NaN                                                                                                                                                                                                                                                                                                                                                                                                                                                                                                                                                                                                                                                                                                                                                                                                                                                                                                      \n",
       "6  [\"This publisher's policies have not been checked by RoMEO.\", 'Please contact the publisher for further information if necessary']                                                                                                                                                                                                                                                                                                                                                                                                                                                                                                                                                                                                                                                                                                                                                                       \n",
       "\n",
       "   Notes  \n",
       "0 NaN     \n",
       "1 NaN     \n",
       "2 NaN     \n",
       "3 NaN     \n",
       "4 NaN     \n",
       "5 NaN     \n",
       "6 NaN     "
      ]
     },
     "metadata": {},
     "output_type": "display_data"
    }
   ],
   "source": [
    "import pandas\n",
    "df = pandas.read_csv('EDSTemplate.txt', sep='\\t')\n",
    "pandas.set_option('display.max_rows', 500)\n",
    "pandas.set_option('display.max_colwidth', -1)\n",
    "display(df)"
   ]
  },
  {
   "cell_type": "markdown",
   "metadata": {},
   "source": [
    "To see individual citation results:"
   ]
  },
  {
   "cell_type": "code",
   "execution_count": 8,
   "metadata": {},
   "outputs": [
    {
     "name": "stdout",
     "output_type": "stream",
     "text": [
      "{'facets': {}, 'total-results': 9697631, 'items': [{'indexed': {'date-parts': [[2019, 2, 17]], 'date-time': '2019-02-17T11:27:59Z', 'timestamp': 1550402879168}, 'reference-count': 46, 'publisher': 'University of Chicago Press', 'issue': '2', 'content-domain': {'domain': [], 'crossmark-restriction': False}, 'short-container-title': ['The Journal of Geology'], 'published-print': {'date-parts': [[2012, 3]]}, 'DOI': '10.1086/663984', 'type': 'journal-article', 'created': {'date-parts': [[2012, 3, 6]], 'date-time': '2012-03-06T16:59:59Z', 'timestamp': 1331053199000}, 'page': '227-236', 'source': 'Crossref', 'is-referenced-by-count': 13, 'title': ['Continental Climatic and Weathering Response to the Eocene-Oligocene Transition'], 'prefix': '10.1086', 'volume': '120', 'author': [{'given': 'Nathan D.', 'family': 'Sheldon', 'sequence': 'first', 'affiliation': []}, {'given': 'Elisenda', 'family': 'Costa', 'sequence': 'additional', 'affiliation': []}, {'given': 'Lluís', 'family': 'Cabrera', 'sequence': 'additional', 'affiliation': []}, {'given': 'Miguel', 'family': 'Garcés', 'sequence': 'additional', 'affiliation': []}], 'member': '200', 'container-title': ['The Journal of Geology'], 'language': 'en', 'link': [{'URL': 'http://www.journals.uchicago.edu/doi/pdf/10.1086/663984', 'content-type': 'unspecified', 'content-version': 'vor', 'intended-application': 'similarity-checking'}], 'deposited': {'date-parts': [[2018, 4, 7]], 'date-time': '2018-04-07T00:22:30Z', 'timestamp': 1523060550000}, 'score': 116.003296, 'issued': {'date-parts': [[2012, 3]]}, 'references-count': 46, 'journal-issue': {'published-print': {'date-parts': [[2012, 3]]}, 'issue': '2'}, 'alternative-id': ['10.1086/663984'], 'URL': 'http://dx.doi.org/10.1086/663984', 'ISSN': ['0022-1376', '1537-5269'], 'issn-type': [{'value': '0022-1376', 'type': 'print'}, {'value': '1537-5269', 'type': 'electronic'}], 'subject': ['Geology']}], 'items-per-page': 1, 'query': {'start-index': 0, 'search-terms': 'Sheldon, N.D., Costa, E., Cabrera, L., and Garcés, M., 2012, Continental climatic and weathering response to the Eocene-Oliogocene transition: Journal of Geology 120, 227–236. doi: 10.1086/663984'}}\n"
     ]
    }
   ],
   "source": [
    "#Optional to see individual citation results\n",
    "\n",
    "x = cr.works(query = \"Sheldon, N.D., Costa, E., Cabrera, L., and Garcés, M., 2012, Continental climatic and weathering response to the Eocene-Oliogocene transition: Journal of Geology 120, 227–236. doi: 10.1086/663984\", limit = 1)\n",
    "print(x['message'])"
   ]
  },
  {
   "cell_type": "markdown",
   "metadata": {},
   "source": [
    "SHERPA-RoMEO API, just plug in an ISSN"
   ]
  },
  {
   "cell_type": "code",
   "execution_count": 10,
   "metadata": {},
   "outputs": [
    {
     "name": "stdout",
     "output_type": "stream",
     "text": [
      "Geological Society of America Bulletin | 0016-7606 | Geological Society of America\n",
      "Conditions: Publisher's version/PDF cannot be used\n",
      "Conditions: On author's personal website or open access repository\n",
      "Conditions: Must link to publisher version\n",
      "Colour: white\n"
     ]
    }
   ],
   "source": [
    "import urllib.request\n",
    "import urllib.parse\n",
    "from xml.etree import ElementTree as ET\n",
    "url = 'http://www.sherpa.ac.uk/romeo/api29.php?issn=0016-7606'\n",
    "f = urllib.request.urlopen(url)\n",
    "srxml = f.read().decode('utf-8')\n",
    "#print(srxml)\n",
    "root = ET.fromstring(srxml)\n",
    "\n",
    "for p in root.findall('.//journal'):\n",
    "    print(\"%s | %s | %s\" % (p.find('jtitle').text, p.find('issn').text, p.find('zetocpub').text))\n",
    "    \n",
    "for c in root.findall('.//publisher/conditions/condition'): # make this a list then append as needed\n",
    "    print(\"Conditions: %s\" % (c.text))\n",
    "    \n",
    "for c in root.findall('.//romeocolour'):\n",
    "    print(\"Colour: %s\" % (c.text))\n"
   ]
  },
  {
   "cell_type": "code",
   "execution_count": null,
   "metadata": {},
   "outputs": [],
   "source": []
  }
 ],
 "metadata": {
  "kernelspec": {
   "display_name": "Python 3",
   "language": "python",
   "name": "python3"
  },
  "language_info": {
   "codemirror_mode": {
    "name": "ipython",
    "version": 3
   },
   "file_extension": ".py",
   "mimetype": "text/x-python",
   "name": "python",
   "nbconvert_exporter": "python",
   "pygments_lexer": "ipython3",
   "version": "3.6.5"
  }
 },
 "nbformat": 4,
 "nbformat_minor": 2
}
